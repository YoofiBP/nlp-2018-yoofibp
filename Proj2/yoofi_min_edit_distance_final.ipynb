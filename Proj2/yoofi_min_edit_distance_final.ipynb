{
 "cells": [
  {
   "cell_type": "code",
   "execution_count": 28,
   "metadata": {},
   "outputs": [],
   "source": [
    "def min_edit(source_word,target_word):\n",
    "    n = len(source_word)\n",
    "    m = len(target_word)\n",
    "    matri = {}\n",
    "    for i in range(n+1):\n",
    "        for j in range(m+1):\n",
    "            matri[str(i)+\":\"+str(j)]=0\n",
    "        matri['0:0']=0\n",
    "    for i in range(1,n+1):\n",
    "        matri[str(i)+\":0\"] = matri[str(i-1)+\":0\"] + 1\n",
    "    for j in range(1,m+1):\n",
    "        matri[\"0:\"+str(j)] = matri[\"0:\"+str(j-1)] + 1\n",
    "    for i in range(1,n+1):\n",
    "        for j in range(1, m+1):\n",
    "            if(source_word[i-1]==target_word[j-1]):\n",
    "                sub = 0\n",
    "            else:\n",
    "                sub = 2\n",
    "            matri[str(i)+\":\"+str(j)]=min((matri[str(i-1)+\":\"+str(j)])+1,(matri[str(i-1)+\":\"+str(j-1)])+sub,(matri[str(i)+\":\"+str(j-1)])+1)\n",
    "    print(\"Minimum edit distance between \"+source_word + \"and \" + target_word + \" is \"+str(matri[str(n)+\":\"+str(m)]))"
   ]
  },
  {
   "cell_type": "code",
   "execution_count": 29,
   "metadata": {},
   "outputs": [
    {
     "name": "stdout",
     "output_type": "stream",
     "text": [
      "Minimum edit distance between intentionand execution is 8\n"
     ]
    }
   ],
   "source": [
    "min_edit('intention','execution')"
   ]
  },
  {
   "cell_type": "code",
   "execution_count": null,
   "metadata": {},
   "outputs": [],
   "source": []
  }
 ],
 "metadata": {
  "kernelspec": {
   "display_name": "Python 3",
   "language": "python",
   "name": "python3"
  },
  "language_info": {
   "codemirror_mode": {
    "name": "ipython",
    "version": 2
   },
   "file_extension": ".py",
   "mimetype": "text/x-python",
   "name": "python",
   "nbconvert_exporter": "python",
   "pygments_lexer": "ipython2",
   "version": "2.7.12"
  }
 },
 "nbformat": 4,
 "nbformat_minor": 2
}
