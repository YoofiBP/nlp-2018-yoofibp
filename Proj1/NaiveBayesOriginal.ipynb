{
 "cells": [
  {
   "cell_type": "code",
   "execution_count": 97,
   "metadata": {},
   "outputs": [],
   "source": [
    "import math\n",
    "import os\n",
    "import re\n",
    "import string\n",
    "import math"
   ]
  },
  {
   "cell_type": "code",
   "execution_count": 98,
   "metadata": {},
   "outputs": [],
   "source": [
    "os.chdir('/home/elementary/nlp-2018-yoofibp/Proj1')"
   ]
  },
  {
   "cell_type": "code",
   "execution_count": 99,
   "metadata": {},
   "outputs": [
    {
     "data": {
      "text/plain": [
       "['just plain boring 0',\n",
       " 'entirely predictable and lacks energy 0 ',\n",
       " 'no surprises and very few laughs 0 ',\n",
       " 'very powerful 1',\n",
       " 'the most fun film of the summer 1',\n",
       " '',\n",
       " '']"
      ]
     },
     "execution_count": 99,
     "metadata": {},
     "output_type": "execute_result"
    }
   ],
   "source": [
    "totalfile = open('book_training.txt')\n",
    "whole = totalfile.read()\n",
    "whole = whole.translate(None, string.punctuation)\n",
    "whole = whole.replace('\\t', ' ')\n",
    "wholelist = whole.split('\\n')\n",
    "wholelist"
   ]
  },
  {
   "cell_type": "code",
   "execution_count": 100,
   "metadata": {},
   "outputs": [
    {
     "data": {
      "text/plain": [
       "''"
      ]
     },
     "execution_count": 100,
     "metadata": {},
     "output_type": "execute_result"
    }
   ],
   "source": [
    "positiveDocs = []\n",
    "negativeDocs = []\n",
    "wholelist.pop()\n",
    "wholelist.pop()"
   ]
  },
  {
   "cell_type": "code",
   "execution_count": 101,
   "metadata": {},
   "outputs": [],
   "source": [
    "numberOfDocuments = len(wholelist)"
   ]
  },
  {
   "cell_type": "code",
   "execution_count": 102,
   "metadata": {},
   "outputs": [
    {
     "data": {
      "text/plain": [
       "['just plain boring 0',\n",
       " 'entirely predictable and lacks energy 0 ',\n",
       " 'no surprises and very few laughs 0 ',\n",
       " 'very powerful 1',\n",
       " 'the most fun film of the summer 1']"
      ]
     },
     "execution_count": 102,
     "metadata": {},
     "output_type": "execute_result"
    }
   ],
   "source": [
    "wholelist"
   ]
  },
  {
   "cell_type": "code",
   "execution_count": 103,
   "metadata": {},
   "outputs": [],
   "source": [
    "for i in wholelist:\n",
    "    if(i[-1] == '1'):\n",
    "        positiveDocs.append(i)\n",
    "    else:\n",
    "        negativeDocs.append(i)"
   ]
  },
  {
   "cell_type": "code",
   "execution_count": 104,
   "metadata": {},
   "outputs": [
    {
     "data": {
      "text/plain": [
       "['just plain boring 0',\n",
       " 'entirely predictable and lacks energy 0 ',\n",
       " 'no surprises and very few laughs 0 ']"
      ]
     },
     "execution_count": 104,
     "metadata": {},
     "output_type": "execute_result"
    }
   ],
   "source": [
    "negativeDocs"
   ]
  },
  {
   "cell_type": "code",
   "execution_count": 105,
   "metadata": {},
   "outputs": [
    {
     "data": {
      "text/plain": [
       "['very powerful 1', 'the most fun film of the summer 1']"
      ]
     },
     "execution_count": 105,
     "metadata": {},
     "output_type": "execute_result"
    }
   ],
   "source": [
    "positiveDocs"
   ]
  },
  {
   "cell_type": "code",
   "execution_count": 106,
   "metadata": {},
   "outputs": [
    {
     "data": {
      "text/plain": [
       "2.0"
      ]
     },
     "execution_count": 106,
     "metadata": {},
     "output_type": "execute_result"
    }
   ],
   "source": [
    "numberOfPositive = float(len(positiveDocs))\n",
    "numberOfPositive"
   ]
  },
  {
   "cell_type": "code",
   "execution_count": 107,
   "metadata": {},
   "outputs": [
    {
     "data": {
      "text/plain": [
       "5"
      ]
     },
     "execution_count": 107,
     "metadata": {},
     "output_type": "execute_result"
    }
   ],
   "source": [
    "numberOfDocuments"
   ]
  },
  {
   "cell_type": "code",
   "execution_count": 108,
   "metadata": {},
   "outputs": [
    {
     "data": {
      "text/plain": [
       "3.0"
      ]
     },
     "execution_count": 108,
     "metadata": {},
     "output_type": "execute_result"
    }
   ],
   "source": [
    "numberOfNegative = float(len(negativeDocs))\n",
    "numberOfNegative"
   ]
  },
  {
   "cell_type": "code",
   "execution_count": 109,
   "metadata": {},
   "outputs": [
    {
     "data": {
      "text/plain": [
       "0.4"
      ]
     },
     "execution_count": 109,
     "metadata": {},
     "output_type": "execute_result"
    }
   ],
   "source": [
    "posppc = numberOfPositive/numberOfDocuments\n",
    "negppc = numberOfNegative/numberOfDocuments\n",
    "posppc"
   ]
  },
  {
   "cell_type": "code",
   "execution_count": 110,
   "metadata": {},
   "outputs": [
    {
     "data": {
      "text/plain": [
       "0.6"
      ]
     },
     "execution_count": 110,
     "metadata": {},
     "output_type": "execute_result"
    }
   ],
   "source": [
    "negppc"
   ]
  },
  {
   "cell_type": "code",
   "execution_count": 111,
   "metadata": {},
   "outputs": [],
   "source": [
    "NeuVoc = []\n",
    "for i in wholelist:\n",
    "    for i in i.split(' '):\n",
    "        if(i!='1' and i!='0'):\n",
    "            NeuVoc.append(i.lower())"
   ]
  },
  {
   "cell_type": "code",
   "execution_count": 112,
   "metadata": {},
   "outputs": [
    {
     "data": {
      "text/plain": [
       "['just',\n",
       " 'plain',\n",
       " 'boring',\n",
       " 'entirely',\n",
       " 'predictable',\n",
       " 'and',\n",
       " 'lacks',\n",
       " 'energy',\n",
       " '',\n",
       " 'no',\n",
       " 'surprises',\n",
       " 'and',\n",
       " 'very',\n",
       " 'few',\n",
       " 'laughs',\n",
       " '',\n",
       " 'very',\n",
       " 'powerful',\n",
       " 'the',\n",
       " 'most',\n",
       " 'fun',\n",
       " 'film',\n",
       " 'of',\n",
       " 'the',\n",
       " 'summer']"
      ]
     },
     "execution_count": 112,
     "metadata": {},
     "output_type": "execute_result"
    }
   ],
   "source": [
    "NeuVoc"
   ]
  },
  {
   "cell_type": "code",
   "execution_count": 113,
   "metadata": {},
   "outputs": [],
   "source": [
    "PosVoc = []\n",
    "for i in positiveDocs:\n",
    "    for i in i.split(' '):\n",
    "        if(i!='1' and i!='0'):\n",
    "            PosVoc.append(i.lower())"
   ]
  },
  {
   "cell_type": "code",
   "execution_count": 114,
   "metadata": {},
   "outputs": [
    {
     "data": {
      "text/plain": [
       "['very', 'powerful', 'the', 'most', 'fun', 'film', 'of', 'the', 'summer']"
      ]
     },
     "execution_count": 114,
     "metadata": {},
     "output_type": "execute_result"
    }
   ],
   "source": [
    "PosVoc"
   ]
  },
  {
   "cell_type": "code",
   "execution_count": 115,
   "metadata": {},
   "outputs": [],
   "source": [
    "NegVoc = []\n",
    "for i in negativeDocs:\n",
    "    for i in i.split(' '):\n",
    "        if(i!='1' and i!='0'):\n",
    "            NegVoc.append(i.lower())"
   ]
  },
  {
   "cell_type": "code",
   "execution_count": 116,
   "metadata": {},
   "outputs": [
    {
     "data": {
      "text/plain": [
       "['just',\n",
       " 'plain',\n",
       " 'boring',\n",
       " 'entirely',\n",
       " 'predictable',\n",
       " 'and',\n",
       " 'lacks',\n",
       " 'energy',\n",
       " '',\n",
       " 'no',\n",
       " 'surprises',\n",
       " 'and',\n",
       " 'very',\n",
       " 'few',\n",
       " 'laughs',\n",
       " '']"
      ]
     },
     "execution_count": 116,
     "metadata": {},
     "output_type": "execute_result"
    }
   ],
   "source": [
    "NegVoc"
   ]
  },
  {
   "cell_type": "code",
   "execution_count": 117,
   "metadata": {},
   "outputs": [
    {
     "data": {
      "text/plain": [
       "{'film': 1,\n",
       " 'fun': 1,\n",
       " 'most': 1,\n",
       " 'of': 1,\n",
       " 'powerful': 1,\n",
       " 'summer': 1,\n",
       " 'the': 2,\n",
       " 'very': 1}"
      ]
     },
     "execution_count": 117,
     "metadata": {},
     "output_type": "execute_result"
    }
   ],
   "source": [
    "PosBag = dict([i, PosVoc.count(i)]for i in PosVoc)\n",
    "PosBag"
   ]
  },
  {
   "cell_type": "code",
   "execution_count": 118,
   "metadata": {},
   "outputs": [
    {
     "data": {
      "text/plain": [
       "{'and': 2,\n",
       " 'boring': 1,\n",
       " 'energy': 1,\n",
       " 'entirely': 1,\n",
       " 'few': 1,\n",
       " 'just': 1,\n",
       " 'lacks': 1,\n",
       " 'laughs': 1,\n",
       " 'no': 1,\n",
       " 'plain': 1,\n",
       " 'predictable': 1,\n",
       " 'surprises': 1,\n",
       " 'very': 1}"
      ]
     },
     "execution_count": 118,
     "metadata": {},
     "output_type": "execute_result"
    }
   ],
   "source": [
    "NegBag = dict([i, NegVoc.count(i)]for i in NegVoc)\n",
    "del NegBag['']\n",
    "NegBag"
   ]
  },
  {
   "cell_type": "code",
   "execution_count": 119,
   "metadata": {},
   "outputs": [],
   "source": [
    "VocBag = dict([i, NeuVoc.count(i)]for i in NeuVoc)\n",
    "del VocBag['']"
   ]
  },
  {
   "cell_type": "code",
   "execution_count": 120,
   "metadata": {},
   "outputs": [
    {
     "data": {
      "text/plain": [
       "20"
      ]
     },
     "execution_count": 120,
     "metadata": {},
     "output_type": "execute_result"
    }
   ],
   "source": [
    "len(VocBag)"
   ]
  },
  {
   "cell_type": "code",
   "execution_count": 121,
   "metadata": {},
   "outputs": [
    {
     "name": "stdout",
     "output_type": "stream",
     "text": [
      "and 1\n",
      "most 2\n",
      "surprises 1\n",
      "just 1\n",
      "no 1\n",
      "very 2\n",
      "plain 1\n",
      "energy 1\n",
      "of 2\n",
      "laughs 1\n",
      "powerful 2\n",
      "summer 2\n",
      "few 1\n",
      "predictable 1\n",
      "boring 1\n",
      "fun 2\n",
      "entirely 1\n",
      "lacks 1\n",
      "the 3\n",
      "film 2\n"
     ]
    },
    {
     "data": {
      "text/plain": [
       "{'and': 0.034482758620689655,\n",
       " 'boring': 0.034482758620689655,\n",
       " 'energy': 0.034482758620689655,\n",
       " 'entirely': 0.034482758620689655,\n",
       " 'few': 0.034482758620689655,\n",
       " 'film': 0.06896551724137931,\n",
       " 'fun': 0.06896551724137931,\n",
       " 'just': 0.034482758620689655,\n",
       " 'lacks': 0.034482758620689655,\n",
       " 'laughs': 0.034482758620689655,\n",
       " 'most': 0.06896551724137931,\n",
       " 'no': 0.034482758620689655,\n",
       " 'of': 0.06896551724137931,\n",
       " 'plain': 0.034482758620689655,\n",
       " 'powerful': 0.06896551724137931,\n",
       " 'predictable': 0.034482758620689655,\n",
       " 'summer': 0.06896551724137931,\n",
       " 'surprises': 0.034482758620689655,\n",
       " 'the': 0.10344827586206896,\n",
       " 'very': 0.06896551724137931}"
      ]
     },
     "execution_count": 121,
     "metadata": {},
     "output_type": "execute_result"
    }
   ],
   "source": [
    "posloglike = {}\n",
    "denom = sum(PosBag.values()) + len(VocBag)\n",
    "for key in VocBag:\n",
    "    if(key in PosBag):\n",
    "        poscount = PosBag[key] + 1\n",
    "    else: \n",
    "        poscount = 1\n",
    "    print(key + \" \" + str(poscount))\n",
    "    posloglike[key] = float(poscount)/float(denom)\n",
    "posloglike"
   ]
  },
  {
   "cell_type": "code",
   "execution_count": 122,
   "metadata": {},
   "outputs": [
    {
     "name": "stdout",
     "output_type": "stream",
     "text": [
      "and 3\n",
      "most 1\n",
      "surprises 2\n",
      "just 2\n",
      "no 2\n",
      "very 2\n",
      "plain 2\n",
      "energy 2\n",
      "of 1\n",
      "laughs 2\n",
      "powerful 1\n",
      "summer 1\n",
      "few 2\n",
      "predictable 2\n",
      "boring 2\n",
      "fun 1\n",
      "entirely 2\n",
      "lacks 2\n",
      "the 1\n",
      "film 1\n"
     ]
    },
    {
     "data": {
      "text/plain": [
       "{'and': 0.08823529411764706,\n",
       " 'boring': 0.058823529411764705,\n",
       " 'energy': 0.058823529411764705,\n",
       " 'entirely': 0.058823529411764705,\n",
       " 'few': 0.058823529411764705,\n",
       " 'film': 0.029411764705882353,\n",
       " 'fun': 0.029411764705882353,\n",
       " 'just': 0.058823529411764705,\n",
       " 'lacks': 0.058823529411764705,\n",
       " 'laughs': 0.058823529411764705,\n",
       " 'most': 0.029411764705882353,\n",
       " 'no': 0.058823529411764705,\n",
       " 'of': 0.029411764705882353,\n",
       " 'plain': 0.058823529411764705,\n",
       " 'powerful': 0.029411764705882353,\n",
       " 'predictable': 0.058823529411764705,\n",
       " 'summer': 0.029411764705882353,\n",
       " 'surprises': 0.058823529411764705,\n",
       " 'the': 0.029411764705882353,\n",
       " 'very': 0.058823529411764705}"
      ]
     },
     "execution_count": 122,
     "metadata": {},
     "output_type": "execute_result"
    }
   ],
   "source": [
    "negloglike = {}\n",
    "denom = sum(NegBag.values()) + len(VocBag)\n",
    "for key in VocBag:\n",
    "    if(key in NegBag):\n",
    "        negcount = NegBag[key] + 1\n",
    "    else: \n",
    "        negcount = 1\n",
    "    print(key + \" \" + str(negcount))\n",
    "    negloglike[key] = float(negcount)/float(denom)\n",
    "negloglike"
   ]
  },
  {
   "cell_type": "code",
   "execution_count": 123,
   "metadata": {},
   "outputs": [],
   "source": [
    "os.chdir('/home/elementary/nlp-2018-yoofibp/Proj1/sentiment labelled sentences/Sample data/Testing')"
   ]
  },
  {
   "cell_type": "code",
   "execution_count": 124,
   "metadata": {},
   "outputs": [
    {
     "data": {
      "text/plain": [
       "['predictable with no fun']"
      ]
     },
     "execution_count": 124,
     "metadata": {},
     "output_type": "execute_result"
    }
   ],
   "source": [
    "test1 = open('book_testing.txt')\n",
    "alldata = test1.read()\n",
    "alldata = alldata.translate(None, string.punctuation)\n",
    "alldata = alldata.replace('\\t', ' ')\n",
    "alldata = alldata.replace(' 0','')\n",
    "alldata = alldata.replace(' 1','')\n",
    "alllist = alldata.split('\\n')\n",
    "alllist.pop()\n",
    "alllist"
   ]
  },
  {
   "cell_type": "code",
   "execution_count": 125,
   "metadata": {
    "scrolled": true
   },
   "outputs": [
    {
     "data": {
      "text/plain": [
       "'sentencenegprobs = {}\\nfor i in alllist:\\n    sentenceneglog=1\\n    for j in i.split():\\n        if(j in negloglike):\\n            print(j + \" \" +str(negloglike[j]))\\n            sentenceneglog*=negloglike[j]\\n    totnegprob = float(sentenceneglog) * float(negppc)\\n    sentencenegprobs[i] = totnegprob\\n    \\nsentencenegprobs'"
      ]
     },
     "execution_count": 125,
     "metadata": {},
     "output_type": "execute_result"
    }
   ],
   "source": [
    "'''sentencenegprobs = {}\n",
    "for i in alllist:\n",
    "    sentenceneglog=1\n",
    "    for j in i.split():\n",
    "        if(j in negloglike):\n",
    "            print(j + \" \" +str(negloglike[j]))\n",
    "            sentenceneglog*=negloglike[j]\n",
    "    totnegprob = float(sentenceneglog) * float(negppc)\n",
    "    sentencenegprobs[i] = totnegprob\n",
    "    \n",
    "sentencenegprobs'''"
   ]
  },
  {
   "cell_type": "code",
   "execution_count": 126,
   "metadata": {
    "scrolled": true
   },
   "outputs": [
    {
     "data": {
      "text/plain": [
       "'sentenceposprobs = {}\\nsentenceposlog = 1\\nfor l in alllist:\\n    for k in l.split():\\n        if(k in posloglike):\\n            print(k + \" \" +str(posloglike[j]))\\n            sentenceposlog*=float(posloglike[k])\\n    totposprob = float(sentenceposlog) * float(posppc)\\n    sentenceposprobs[l] = totposprob\\n    \\nsentenceposprobs'"
      ]
     },
     "execution_count": 126,
     "metadata": {},
     "output_type": "execute_result"
    }
   ],
   "source": [
    "'''sentenceposprobs = {}\n",
    "sentenceposlog = 1\n",
    "for l in alllist:\n",
    "    for k in l.split():\n",
    "        if(k in posloglike):\n",
    "            print(k + \" \" +str(posloglike[j]))\n",
    "            sentenceposlog*=float(posloglike[k])\n",
    "    totposprob = float(sentenceposlog) * float(posppc)\n",
    "    sentenceposprobs[l] = totposprob\n",
    "    \n",
    "sentenceposprobs'''"
   ]
  },
  {
   "cell_type": "code",
   "execution_count": 127,
   "metadata": {},
   "outputs": [
    {
     "name": "stdout",
     "output_type": "stream",
     "text": [
      "6.10624872786e-05\n",
      "3.28016728853e-05\n",
      " \n",
      "{'predictable with no fun': 6.106248727864848e-05}\n"
     ]
    }
   ],
   "source": [
    "newfile = open('imdb_output.txt','w')\n",
    "sentencenegprobs = {}\n",
    "sentenceposprobs = {}\n",
    "for i in alllist:\n",
    "    sentenceposlog = 1\n",
    "    sentenceneglog = 1\n",
    "    for j in i.split():\n",
    "        if(j in negloglike):\n",
    "            sentenceneglog*=negloglike[j]\n",
    "        if(j in posloglike):\n",
    "            sentenceposlog*=posloglike[j]\n",
    "    totnegprob = float(sentenceneglog) *float(negppc)\n",
    "    print(totnegprob)\n",
    "    totposprob = float(sentenceposlog) * float(posppc)\n",
    "    print(totposprob)\n",
    "    sentencenegprobs[i] = totnegprob\n",
    "    print(\" \")\n",
    "    print(sentencenegprobs)\n",
    "    sentenceposprobs[i] = totposprob\n",
    "if(sentencenegprobs[i] > sentenceposprobs[i]):\n",
    "    newfile.write(i + ' 0\\n')\n",
    "else:\n",
    "    newfile.write(i + ' 1\\n')\n",
    "newfile.close()"
   ]
  },
  {
   "cell_type": "code",
   "execution_count": 128,
   "metadata": {},
   "outputs": [
    {
     "data": {
      "text/plain": [
       "'/home/elementary/nlp-2018-yoofibp/Proj1/sentiment labelled sentences/Sample data/Testing'"
      ]
     },
     "execution_count": 128,
     "metadata": {},
     "output_type": "execute_result"
    }
   ],
   "source": [
    "os.getcwd()"
   ]
  }
 ],
 "metadata": {
  "kernelspec": {
   "display_name": "Python 3",
   "language": "python",
   "name": "python3"
  },
  "language_info": {
   "codemirror_mode": {
    "name": "ipython",
    "version": 2
   },
   "file_extension": ".py",
   "mimetype": "text/x-python",
   "name": "python",
   "nbconvert_exporter": "python",
   "pygments_lexer": "ipython2",
   "version": "2.7.12"
  }
 },
 "nbformat": 4,
 "nbformat_minor": 2
}
