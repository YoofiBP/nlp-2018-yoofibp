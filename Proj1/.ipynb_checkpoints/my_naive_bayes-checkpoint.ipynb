{
 "cells": [
  {
   "cell_type": "code",
   "execution_count": 12,
   "metadata": {},
   "outputs": [],
   "source": [
    "import math\n",
    "import os\n",
    "import re\n",
    "import string\n",
    "import math"
   ]
  },
  {
   "cell_type": "code",
   "execution_count": 13,
   "metadata": {},
   "outputs": [
    {
     "data": {
      "text/plain": [
       "'/home/elementary/nlp-2018-yoofibp/Proj1'"
      ]
     },
     "execution_count": 13,
     "metadata": {},
     "output_type": "execute_result"
    }
   ],
   "source": [
    "os.getcwd()"
   ]
  },
  {
   "cell_type": "code",
   "execution_count": 14,
   "metadata": {},
   "outputs": [],
   "source": [
    "arr = ['imdb_labelled_training.txt']\n",
    "test = 'IMDB.txt'"
   ]
  },
  {
   "cell_type": "code",
   "execution_count": 15,
   "metadata": {},
   "outputs": [],
   "source": [
    "def naiveBayes(test_file, array_of_training_files):\n",
    "    for i in array_of_training_files:\n",
    "        totalfile = open(i)\n",
    "        whole = totalfile.read()\n",
    "        whole = whole.translate(None, string.punctuation)\n",
    "        whole = whole.replace('\\t', ' ')\n",
    "        wholelist = whole.split('\\n')\n",
    "        positiveDocs = []\n",
    "        negativeDocs = []\n",
    "        wholelist.pop()\n",
    "        wholelist.pop()\n",
    "        numberOfDocuments = len(wholelist)\n",
    "        for i in wholelist:\n",
    "            if(i[-1] == '1'):\n",
    "                positiveDocs.append(i)\n",
    "            else:\n",
    "                negativeDocs.append(i)\n",
    "        numberOfPositive = float(len(positiveDocs))\n",
    "        numberOfNegative = float(len(negativeDocs))\n",
    "        posppc = numberOfPositive/numberOfDocuments\n",
    "        negppc = numberOfNegative/numberOfDocuments\n",
    "        NeuVoc = []\n",
    "        for i in wholelist:\n",
    "            for i in i.split(' '):\n",
    "                if(i!='1' and i!='0'):\n",
    "                    NeuVoc.append(i.lower())\n",
    "        NegVoc = []\n",
    "        for i in negativeDocs:\n",
    "            for i in i.split(' '):\n",
    "                if(i!='1' and i!='0'):\n",
    "                    NegVoc.append(i.lower())\n",
    "        PosVoc = []\n",
    "        for i in positiveDocs:\n",
    "            for i in i.split(' '):\n",
    "                if(i!='1' and i!='0'):\n",
    "                    PosVoc.append(i.lower())\n",
    "        PosBag = dict([i, PosVoc.count(i)]for i in PosVoc)\n",
    "        NegBag = dict([i, NegVoc.count(i)]for i in NegVoc)\n",
    "        VocBag = dict([i, NeuVoc.count(i)]for i in NeuVoc)\n",
    "        posloglike = {}\n",
    "        denom = sum(PosBag.values()) + len(VocBag)\n",
    "        for key in VocBag:\n",
    "            if(key in PosBag):\n",
    "                poscount = PosBag[key] + 1\n",
    "            else: \n",
    "                poscount = 1\n",
    "            print(key + \" \" + str(poscount))\n",
    "            posloglike[key] = float(poscount)/float(denom)\n",
    "        posloglike\n",
    "        negloglike = {}\n",
    "        denom = sum(NegBag.values()) + len(VocBag)\n",
    "        for key in VocBag:\n",
    "            if(key in NegBag):\n",
    "                negcount = NegBag[key] + 1\n",
    "            else: \n",
    "                negcount = 1\n",
    "            print(key + \" \" + str(negcount))\n",
    "            negloglike[key] = float(negcount)/float(denom)\n",
    "        negloglike\n",
    "    source = open(test_file)\n",
    "    alldata = source.read()\n",
    "    alldata = alldata.translate(None, string.punctuation)\n",
    "    alldata = alldata.replace('\\t', ' ')\n",
    "    alldata = alldata.replace(' 0','')\n",
    "    alldata = alldata.replace(' 1','')\n",
    "    alllist = alldata.split('\\n')\n",
    "    alllist.pop()\n",
    "    newfile = open('results.txt','w')\n",
    "    sentencenegprobs = {}\n",
    "    sentenceposprobs = {}\n",
    "    for i in alllist:\n",
    "        sentenceposlog = 1\n",
    "        sentenceneglog = 1\n",
    "        for j in i.split():\n",
    "            if(j in negloglike):\n",
    "                sentenceneglog*=negloglike[j]\n",
    "            if(j in posloglike):\n",
    "                sentenceposlog*=posloglike[j]\n",
    "        totnegprob = float(sentenceneglog) *float(negppc)\n",
    "        print(totnegprob)\n",
    "        totposprob = float(sentenceposlog) * float(posppc)\n",
    "        print(totposprob)\n",
    "        sentencenegprobs[i] = totnegprob\n",
    "        print(\" \")\n",
    "        print(sentencenegprobs)\n",
    "        sentenceposprobs[i] = totposprob\n",
    "        if(sentencenegprobs[i] > sentenceposprobs[i]):\n",
    "            newfile.write(i + ' 0\\n')\n",
    "        else:\n",
    "            newfile.write(i + ' 1\\n')\n",
    "    newfile.close()"
   ]
  },
  {
   "cell_type": "code",
   "execution_count": 16,
   "metadata": {},
   "outputs": [
    {
     "ename": "NameError",
     "evalue": "global name 'numberOfDocuments' is not defined",
     "output_type": "error",
     "traceback": [
      "\u001b[0;31m---------------------------------------------------------------------------\u001b[0m",
      "\u001b[0;31mNameError\u001b[0m                                 Traceback (most recent call last)",
      "\u001b[0;32m<ipython-input-16-bb11da05bd1a>\u001b[0m in \u001b[0;36m<module>\u001b[0;34m()\u001b[0m\n\u001b[0;32m----> 1\u001b[0;31m \u001b[0mnaiveBayes\u001b[0m\u001b[0;34m(\u001b[0m\u001b[0mtest\u001b[0m\u001b[0;34m,\u001b[0m\u001b[0marr\u001b[0m\u001b[0;34m)\u001b[0m\u001b[0;34m\u001b[0m\u001b[0m\n\u001b[0m",
      "\u001b[0;32m<ipython-input-15-4110e1ffabec>\u001b[0m in \u001b[0;36mnaiveBayes\u001b[0;34m(test_file, array_of_training_files)\u001b[0m\n\u001b[1;32m     17\u001b[0m         \u001b[0mnumberOfPositive\u001b[0m \u001b[0;34m=\u001b[0m \u001b[0mfloat\u001b[0m\u001b[0;34m(\u001b[0m\u001b[0mlen\u001b[0m\u001b[0;34m(\u001b[0m\u001b[0mpositiveDocs\u001b[0m\u001b[0;34m)\u001b[0m\u001b[0;34m)\u001b[0m\u001b[0;34m\u001b[0m\u001b[0m\n\u001b[1;32m     18\u001b[0m         \u001b[0mnumberOfNegative\u001b[0m \u001b[0;34m=\u001b[0m \u001b[0mfloat\u001b[0m\u001b[0;34m(\u001b[0m\u001b[0mlen\u001b[0m\u001b[0;34m(\u001b[0m\u001b[0mnegativeDocs\u001b[0m\u001b[0;34m)\u001b[0m\u001b[0;34m)\u001b[0m\u001b[0;34m\u001b[0m\u001b[0m\n\u001b[0;32m---> 19\u001b[0;31m         \u001b[0mposppc\u001b[0m \u001b[0;34m=\u001b[0m \u001b[0mnumberOfPositive\u001b[0m\u001b[0;34m/\u001b[0m\u001b[0mnumberOfDocuments\u001b[0m\u001b[0;34m\u001b[0m\u001b[0m\n\u001b[0m\u001b[1;32m     20\u001b[0m         \u001b[0mnegppc\u001b[0m \u001b[0;34m=\u001b[0m \u001b[0mnumberOfNegative\u001b[0m\u001b[0;34m/\u001b[0m\u001b[0mnumberOfDocuments\u001b[0m\u001b[0;34m\u001b[0m\u001b[0m\n\u001b[1;32m     21\u001b[0m         \u001b[0mNeuVoc\u001b[0m \u001b[0;34m=\u001b[0m \u001b[0;34m[\u001b[0m\u001b[0;34m]\u001b[0m\u001b[0;34m\u001b[0m\u001b[0m\n",
      "\u001b[0;31mNameError\u001b[0m: global name 'numberOfDocuments' is not defined"
     ]
    }
   ],
   "source": [
    "naiveBayes(test,arr)"
   ]
  }
 ],
 "metadata": {
  "kernelspec": {
   "display_name": "Python 3",
   "language": "python",
   "name": "python3"
  },
  "language_info": {
   "codemirror_mode": {
    "name": "ipython",
    "version": 2
   },
   "file_extension": ".py",
   "mimetype": "text/x-python",
   "name": "python",
   "nbconvert_exporter": "python",
   "pygments_lexer": "ipython2",
   "version": "2.7.12"
  }
 },
 "nbformat": 4,
 "nbformat_minor": 2
}
