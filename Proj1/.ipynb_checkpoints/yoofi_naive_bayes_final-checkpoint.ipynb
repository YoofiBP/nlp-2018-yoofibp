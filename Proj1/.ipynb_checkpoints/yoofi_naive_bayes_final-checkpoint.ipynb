{
 "cells": [
  {
   "cell_type": "code",
   "execution_count": 144,
   "metadata": {},
   "outputs": [],
   "source": [
    "import math\n",
    "import os\n",
    "import re\n",
    "import string\n",
    "import math"
   ]
  },
  {
   "cell_type": "code",
   "execution_count": 145,
   "metadata": {},
   "outputs": [
    {
     "data": {
      "text/plain": [
       "'/home/elementary/nlp-2018-yoofibp/Proj1'"
      ]
     },
     "execution_count": 145,
     "metadata": {},
     "output_type": "execute_result"
    }
   ],
   "source": [
    "os.getcwd()"
   ]
  },
  {
   "cell_type": "code",
   "execution_count": 146,
   "metadata": {},
   "outputs": [],
   "source": [
    "arr = ['amazon_cells_labelled_training.txt','imdb_labelled_training.txt', 'yelp_labelled.txt']\n",
    "test = 'IMDB.txt'"
   ]
  },
  {
   "cell_type": "code",
   "execution_count": 147,
   "metadata": {},
   "outputs": [],
   "source": [
    "def naiveBayes(test_file,array_of_training_files):\n",
    "    for b in array_of_training_files:\n",
    "        totalfile = open(b)\n",
    "        whole = totalfile.read()\n",
    "        whole = whole.translate(None, string.punctuation)\n",
    "        whole = whole.replace('\\t', ' ')\n",
    "        wholelist = whole.split('\\n')\n",
    "        positiveDocs = []\n",
    "        negativeDocs = []\n",
    "        wholelist.pop()\n",
    "        wholelist.pop()\n",
    "        wholelist\n",
    "        numberOfDocuments = len(wholelist)\n",
    "        numberOfDocuments\n",
    "        for i in wholelist:\n",
    "            if(i[-1] == '1'):\n",
    "                positiveDocs.append(i)\n",
    "            else:\n",
    "                negativeDocs.append(i)\n",
    "        numberOfPositive = float(len(positiveDocs))\n",
    "        numberOfNegative = float(len(negativeDocs))\n",
    "        posppc = numberOfPositive/numberOfDocuments\n",
    "        negppc = numberOfNegative/numberOfDocuments\n",
    "        NeuVoc = []\n",
    "        NegVoc = []\n",
    "        PosVoc = []\n",
    "        for i in wholelist:\n",
    "            for i in i.split(' '):\n",
    "                if(i!='1' and i!='0'):\n",
    "                    NeuVoc.append(i.lower())\n",
    "        NegVoc = []\n",
    "        for i in negativeDocs:\n",
    "            for i in i.split(' '):\n",
    "                if(i!='1' and i!='0'):\n",
    "                    NegVoc.append(i.lower())\n",
    "        PosVoc = []\n",
    "        for i in positiveDocs:\n",
    "            for i in i.split(' '):\n",
    "                if(i!='1' and i!='0'):\n",
    "                    PosVoc.append(i.lower())\n",
    "        PosBag = dict([i, PosVoc.count(i)]for i in PosVoc)\n",
    "        NegBag = dict([i, NegVoc.count(i)]for i in NegVoc)\n",
    "        VocBag = dict([i, NeuVoc.count(i)]for i in NeuVoc)\n",
    "        del VocBag['']\n",
    "        del NegBag['']\n",
    "        posloglike = {}\n",
    "        denom = sum(PosBag.values()) + len(VocBag)\n",
    "        for key in VocBag:\n",
    "            if(key in PosBag):\n",
    "                poscount = PosBag[key] + 1\n",
    "            else: \n",
    "                poscount = 1\n",
    "            ##print(key + \" \" + str(poscount))\n",
    "            posloglike[key] = float(poscount)/float(denom)\n",
    "        negloglike = {}\n",
    "        denom = sum(NegBag.values()) + len(VocBag)\n",
    "        for key in VocBag:\n",
    "            if(key in NegBag):\n",
    "                negcount = NegBag[key] + 1\n",
    "            else: \n",
    "                negcount = 1\n",
    "            ##print(key + \" \" + str(negcount))\n",
    "            negloglike[key] = float(negcount)/float(denom)\n",
    "        negloglike\n",
    "    source = open(test_file)\n",
    "    alldata = source.read()\n",
    "    alldata = alldata.translate(None, string.punctuation)\n",
    "    alldata = alldata.replace('\\t', ' ')\n",
    "    alldata = alldata.replace(' 0','')\n",
    "    alldata = alldata.replace(' 1','')\n",
    "    alllist = alldata.split('\\n')\n",
    "    alllist\n",
    "    alllist.pop()\n",
    "    newfile = open('results.txt','w')\n",
    "    sentencenegprobs = {}\n",
    "    sentenceposprobs = {}\n",
    "    for i in alllist:\n",
    "        sentenceposlog = 1\n",
    "        sentenceneglog = 1\n",
    "        for j in i.split():\n",
    "            if(j in negloglike):\n",
    "                sentenceneglog*=negloglike[j]\n",
    "            if(j in posloglike):\n",
    "                sentenceposlog*=posloglike[j]\n",
    "            totnegprob = float(sentenceneglog) *float(negppc)\n",
    "            totposprob = float(sentenceposlog) * float(posppc)\n",
    "            sentencenegprobs[i] = totnegprob\n",
    "            sentenceposprobs[i] = totposprob\n",
    "        if(sentencenegprobs[i] > sentenceposprobs[i]):\n",
    "            newfile.write(i + ' 0\\n')\n",
    "        else:\n",
    "            newfile.write(i + ' 1\\n')\n",
    "    newfile.close()\n",
    "    print(sentencenegprobs)\n",
    "    print(sentenceposprobs)"
   ]
  },
  {
   "cell_type": "code",
   "execution_count": 148,
   "metadata": {},
   "outputs": [
    {
     "name": "stdout",
     "output_type": "stream",
     "text": [
      "{'It presents a idyllic yet serious portrayal of the ups and downs of the characters lives  ': 7.509292544732514e-15, 'The scenery that the two daughters paint and photograph are beautiful  ': 7.835623947964966e-16, 'The story line is totally predictable  ': 2.24983227939042e-06, 'Bad characters bad story and bad acting  ': 6.45536516235278e-08, 'Its the one movie that never ceases to interest me simply because it keeps me alert as I try to attempt to decipher its meanings  ': 7.775001446086502e-38, 'I rate this movie 910  ': 1.1083732552879274e-06, 'Think of the film being like a dream  ': 1.877461205738769e-11, 'The films dialogue is natural real to life  ': 4.880537131272274e-12, 'However after finally watching this film I realized that not only had I had a closed mind to the brilliance it depicts I also found myself watching it over and over again  ': 2.1152769182799702e-60, 'Go rent it  ': 0.005270744943888684, 'I enjoyed it  ': 6.782582606985824e-07, 'The incredible soundtrack truly captures the essence of the film  ': 1.241775626926169e-17, 'Really awful  ': 0.0002571095094579846, 'Definitely worth seeing\\xc2\\x85 its the sort of thought provoking film that forces you to question your own threshold of loneliness': 4.5119815111816e-25, 'Not easy to watch  ': 1.0835589286770035e-06, 'Kathy Bates is wonderful in her characters subtle desperation and escapism a variation on her character in At Play In The Fields Of The Lord  ': 1.885043657083039e-23, 'Paolo Sorrentino has written a wonderful story about loneliness and Tony has built one of the most unforgettable characters seen in movies in recent years  ': 1.2194004847595886e-45, 'The acting is like watching wooden puppets moving around and reading from a book thats how bad it is  ': 2.467164731258478e-31, 'This is truly an art movieit actually has a lot of art in it  ': 1.7384021794034284e-27, 'Each track commands sentiment actually contributing to the scenes and characters  ': 1.6398604761074843e-09, 'It was a long time that i didnt see a so charismatic actor on screen  ': 7.784914134004206e-27, 'They are so easy to love but even more easy to identify with  ': 5.151420130790892e-23, 'So I am here to warn youDO NOT RENT THIS MOVIE it is the dumbest thing you have never seen  ': 4.977074713735002e-28, 'Both Rickman and Stowe play their roles to the hilt in this tale of a childrens book writer who maybe has written a subversive tract  ': 1.3093513552591743e-31, 'I have recommended it to friends  ': 5.680112211564203e-14, 'This movie is greatespecially if you enjoy visual arts  ': 2.5147805829074686e-11, 'I do not know if this was Emilio Estevezs directorial debut but the pacing the interplay and development of the characters as well as some clever camera work surrounding the character Estevez plays all suggest a natural eye  ': 2.2717044818028297e-49, 'People who like European films and art movies will like this movie  ': 8.160793161045605e-19, 'Its a gloriously fun fast paced and fairly accurate portrayal of the night of a raver  ': 8.895107151635251e-26, 'I saw this short film on HBO the other day and absolutely loved it  ': 1.648909145714706e-27, 'Hopefully the director James Cox can turn the short into a feature length film with the same cast or win us over with a whole new film  ': 2.7071332996184684e-46, 'But if you liked movies like The Matrix and better yet their sequels I think youll appreciate the thought provoking mindblowing experience this film will give you  ': 8.154511143125644e-51, 'For readers who have already seen one of Miyazakis films he is still in top form and made another worthwhile experience  ': 5.562622148454949e-43, 'Their onscreen chemistry critical to the entire film is genuine  ': 6.637530498530292e-10, 'It showed exactly how the government and the scientist argued for humanity and the reasons of the gadget  ': 3.522894506596148e-28, 'Excellent short film  ': 0.0001285547547289923, 'Brilliance indeed  ': 0.4994994994994995, 'It never condescends all the characters have good genuine hearts and believable problems  ': 8.043321047218279e-18, 'Both actors truly understand and become their particular character delivering a convincing sincere performance  ': 6.425543393079383e-22, 'Funny clever hip  just like Prays previous film Hype  ': 5.428433308270542e-10, 'I was particularly pleased with the acting ability of Dwight Schultz  ': 1.737680458372731e-12, 'The two main characters may be two of the most believable children I ever saw put on screen  ': 1.5032360440267076e-32, 'Characters are onedimensional even the good guys and especially the bad guys  ': 1.8918318011848044e-27, 'The story is also both funny and poignant at times  ': 5.468380640996738e-20, 'I agree with Jessica this movie is pretty bad  ': 4.2568861211889287e-13, 'Its too bad that everyone else involved didnt share Crowes level of dedication to quality for if they did wed have a far better film on our hands than this subpar mess  ': 9.209133168050832e-74, 'Just whatever you do avoid Groove as its the antithesis of all that is good about Human Traffic  ': 9.78111864777702e-31, 'I didnt realize how wonderful the short really is until the last two scenes  ': 3.1890473032772135e-32, 'Ive seen soap operas more intelligent than this movie  ': 3.5790423001836694e-12, 'But it picked up speed and got right to the point  ': 6.371722501305625e-20, 'The interplay between Martin and Emilio contains the same wonderful chemistry we saw in Wall Street with Martin and Charlie  ': 2.2857757270411686e-23, 'Simply beautiful  ': 6.427737736449615e-05, 'The movie is not completely perfect but Titta Di Girolamo will stay with you for a long time after the vision of the movie  ': 7.524326443391628e-43, 'Not much dialogue not much music the whole film was shot as elaborately and aesthetically like a sculpture  ': 3.985876036610155e-27, 'The movie seemed a little slow at first  ': 1.2654697289911906e-17, 'The writer Gorman Bechard undoubtedly did his homework because all references are industry and characterage appropriate  ': 2.7547457828791615e-20}\n",
      "{'It presents a idyllic yet serious portrayal of the ups and downs of the characters lives  ': 6.96284653695677e-15, 'The scenery that the two daughters paint and photograph are beautiful  ': 3.6296874739541815e-15, 'The story line is totally predictable  ': 1.0084160087649557e-06, 'Bad characters bad story and bad acting  ': 2.9667315741473905e-10, 'Its the one movie that never ceases to interest me simply because it keeps me alert as I try to attempt to decipher its meanings  ': 3.4221918594863082e-40, 'I rate this movie 910  ': 7.491090350825385e-07, 'Think of the film being like a dream  ': 1.7440318028825964e-12, 'The films dialogue is natural real to life  ': 1.033301131496196e-11, 'However after finally watching this film I realized that not only had I had a closed mind to the brilliance it depicts I also found myself watching it over and over again  ': 3.550622992325545e-64, 'Go rent it  ': 0.0035358810812474756, 'I enjoyed it  ': 2.9388123684007276e-06, 'The incredible soundtrack truly captures the essence of the film  ': 3.6939141581375905e-16, 'Really awful  ': 6.933100159308777e-05, 'Definitely worth seeing\\xc2\\x85 its the sort of thought provoking film that forces you to question your own threshold of loneliness': 2.6483327677556694e-25, 'Not easy to watch  ': 2.5642578508594584e-06, 'Kathy Bates is wonderful in her characters subtle desperation and escapism a variation on her character in At Play In The Fields Of The Lord  ': 2.363688123305112e-23, 'Paolo Sorrentino has written a wonderful story about loneliness and Tony has built one of the most unforgettable characters seen in movies in recent years  ': 5.920190923774608e-45, 'The acting is like watching wooden puppets moving around and reading from a book thats how bad it is  ': 2.0645699907578497e-33, 'This is truly an art movieit actually has a lot of art in it  ': 7.352067989246205e-27, 'Each track commands sentiment actually contributing to the scenes and characters  ': 2.275001059449387e-09, 'It was a long time that i didnt see a so charismatic actor on screen  ': 3.8706713247267403e-28, 'They are so easy to love but even more easy to identify with  ': 9.814243295712508e-23, 'So I am here to warn youDO NOT RENT THIS MOVIE it is the dumbest thing you have never seen  ': 8.589693204740258e-29, 'Both Rickman and Stowe play their roles to the hilt in this tale of a childrens book writer who maybe has written a subversive tract  ': 5.514989857971806e-32, 'I have recommended it to friends  ': 4.7275883403304883e-14, 'This movie is greatespecially if you enjoy visual arts  ': 2.2349490765507618e-11, 'I do not know if this was Emilio Estevezs directorial debut but the pacing the interplay and development of the characters as well as some clever camera work surrounding the character Estevez plays all suggest a natural eye  ': 6.338802644929239e-51, 'People who like European films and art movies will like this movie  ': 1.76680928676312e-19, 'Its a gloriously fun fast paced and fairly accurate portrayal of the night of a raver  ': 6.7247129729430105e-25, 'I saw this short film on HBO the other day and absolutely loved it  ': 2.3471630460420942e-26, 'Hopefully the director James Cox can turn the short into a feature length film with the same cast or win us over with a whole new film  ': 1.193617466355475e-47, 'But if you liked movies like The Matrix and better yet their sequels I think youll appreciate the thought provoking mindblowing experience this film will give you  ': 3.330013250610117e-51, 'For readers who have already seen one of Miyazakis films he is still in top form and made another worthwhile experience  ': 3.621554036581899e-43, 'Their onscreen chemistry critical to the entire film is genuine  ': 5.355944198255282e-10, 'It showed exactly how the government and the scientist argued for humanity and the reasons of the gadget  ': 3.3140494082651443e-28, 'Excellent short film  ': 6.933100159308777e-05, 'Brilliance indeed  ': 0.5005005005005005, 'It never condescends all the characters have good genuine hearts and believable problems  ': 1.1111801243162127e-17, 'Both actors truly understand and become their particular character delivering a convincing sincere performance  ': 9.875032120738003e-22, 'Funny clever hip  just like Prays previous film Hype  ': 9.578684903076777e-10, 'I was particularly pleased with the acting ability of Dwight Schultz  ': 1.001146279766824e-11, 'The two main characters may be two of the most believable children I ever saw put on screen  ': 3.0707634041014467e-33, 'Characters are onedimensional even the good guys and especially the bad guys  ': 1.0150025050097109e-26, 'The story is also both funny and poignant at times  ': 2.0921085749598913e-19, 'I agree with Jessica this movie is pretty bad  ': 1.0537406770776675e-13, 'Its too bad that everyone else involved didnt share Crowes level of dedication to quality for if they did wed have a far better film on our hands than this subpar mess  ': 1.2636302761176595e-76, 'Just whatever you do avoid Groove as its the antithesis of all that is good about Human Traffic  ': 4.058660003374753e-31, 'I didnt realize how wonderful the short really is until the last two scenes  ': 6.4712203033149645e-31, 'Ive seen soap operas more intelligent than this movie  ': 6.037265037955303e-13, 'But it picked up speed and got right to the point  ': 9.227782789866514e-21, 'The interplay between Martin and Emilio contains the same wonderful chemistry we saw in Wall Street with Martin and Charlie  ': 1.0257459881192959e-22, 'Simply beautiful  ': 0.00027732400637235107, 'The movie is not completely perfect but Titta Di Girolamo will stay with you for a long time after the vision of the movie  ': 9.900149264753649e-44, 'Not much dialogue not much music the whole film was shot as elaborately and aesthetically like a sculpture  ': 1.2256500634135698e-28, 'The movie seemed a little slow at first  ': 5.370565002589275e-19, 'The writer Gorman Bechard undoubtedly did his homework because all references are industry and characterage appropriate  ': 2.1017214380862737e-20}\n"
     ]
    }
   ],
   "source": [
    "naiveBayes(test,arr)"
   ]
  }
 ],
 "metadata": {
  "kernelspec": {
   "display_name": "Python 3",
   "language": "python",
   "name": "python3"
  },
  "language_info": {
   "codemirror_mode": {
    "name": "ipython",
    "version": 2
   },
   "file_extension": ".py",
   "mimetype": "text/x-python",
   "name": "python",
   "nbconvert_exporter": "python",
   "pygments_lexer": "ipython2",
   "version": "2.7.12"
  }
 },
 "nbformat": 4,
 "nbformat_minor": 2
}
