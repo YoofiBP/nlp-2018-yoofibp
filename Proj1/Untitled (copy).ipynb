{
 "cells": [
  {
   "cell_type": "code",
   "execution_count": 230,
   "metadata": {},
   "outputs": [],
   "source": [
    "import math\n",
    "import os\n",
    "import re\n",
    "import string\n",
    "import math"
   ]
  },
  {
   "cell_type": "code",
   "execution_count": 258,
   "metadata": {},
   "outputs": [],
   "source": [
    "os.chdir('/home/elementary/nlp-2018-yoofibp/Proj1/sentiment labelled sentences/Sample data/Training')"
   ]
  },
  {
   "cell_type": "code",
   "execution_count": 265,
   "metadata": {},
   "outputs": [
    {
     "data": {
      "text/plain": [
       "['just plain boring 0',\n",
       " 'entirely predictable and lacks energy 0 ',\n",
       " 'no surprises and very few laughs 0 ',\n",
       " 'very powerful 1',\n",
       " 'the most fun film of the summer 1',\n",
       " '',\n",
       " '']"
      ]
     },
     "execution_count": 265,
     "metadata": {},
     "output_type": "execute_result"
    }
   ],
   "source": [
    "totalfile = open('book.txt')\n",
    "whole = totalfile.read()\n",
    "whole = whole.translate(None, string.punctuation)\n",
    "whole = whole.replace('\\t', ' ')\n",
    "wholelist = whole.split('\\n')\n",
    "wholelist"
   ]
  },
  {
   "cell_type": "code",
   "execution_count": 266,
   "metadata": {},
   "outputs": [
    {
     "data": {
      "text/plain": [
       "''"
      ]
     },
     "execution_count": 266,
     "metadata": {},
     "output_type": "execute_result"
    }
   ],
   "source": [
    "positiveDocs = []\n",
    "negativeDocs = []\n",
    "wholelist.pop()\n",
    "wholelist.pop()"
   ]
  },
  {
   "cell_type": "code",
   "execution_count": 275,
   "metadata": {},
   "outputs": [],
   "source": [
    "numberOfDocuments = len(wholelist)"
   ]
  },
  {
   "cell_type": "code",
   "execution_count": 267,
   "metadata": {},
   "outputs": [
    {
     "data": {
      "text/plain": [
       "['just plain boring 0',\n",
       " 'entirely predictable and lacks energy 0 ',\n",
       " 'no surprises and very few laughs 0 ',\n",
       " 'very powerful 1',\n",
       " 'the most fun film of the summer 1']"
      ]
     },
     "execution_count": 267,
     "metadata": {},
     "output_type": "execute_result"
    }
   ],
   "source": [
    "wholelist"
   ]
  },
  {
   "cell_type": "code",
   "execution_count": 268,
   "metadata": {},
   "outputs": [],
   "source": [
    "for i in wholelist:\n",
    "    if(i[-1] == '1'):\n",
    "        positiveDocs.append(i)\n",
    "    else:\n",
    "        negativeDocs.append(i)"
   ]
  },
  {
   "cell_type": "code",
   "execution_count": 269,
   "metadata": {},
   "outputs": [
    {
     "data": {
      "text/plain": [
       "['just plain boring 0',\n",
       " 'entirely predictable and lacks energy 0 ',\n",
       " 'no surprises and very few laughs 0 ']"
      ]
     },
     "execution_count": 269,
     "metadata": {},
     "output_type": "execute_result"
    }
   ],
   "source": [
    "negativeDocs"
   ]
  },
  {
   "cell_type": "code",
   "execution_count": 270,
   "metadata": {},
   "outputs": [
    {
     "data": {
      "text/plain": [
       "2.0"
      ]
     },
     "execution_count": 270,
     "metadata": {},
     "output_type": "execute_result"
    }
   ],
   "source": [
    "numberOfPositive = float(len(positiveDocs))\n",
    "numberOfPositive"
   ]
  },
  {
   "cell_type": "code",
   "execution_count": 276,
   "metadata": {},
   "outputs": [
    {
     "data": {
      "text/plain": [
       "5"
      ]
     },
     "execution_count": 276,
     "metadata": {},
     "output_type": "execute_result"
    }
   ],
   "source": [
    "numberOfDocuments"
   ]
  },
  {
   "cell_type": "code",
   "execution_count": 271,
   "metadata": {},
   "outputs": [
    {
     "data": {
      "text/plain": [
       "3.0"
      ]
     },
     "execution_count": 271,
     "metadata": {},
     "output_type": "execute_result"
    }
   ],
   "source": [
    "numberOfNegative = float(len(negativeDocs))\n",
    "numberOfNegative"
   ]
  },
  {
   "cell_type": "code",
   "execution_count": 277,
   "metadata": {},
   "outputs": [
    {
     "data": {
      "text/plain": [
       "0.4"
      ]
     },
     "execution_count": 277,
     "metadata": {},
     "output_type": "execute_result"
    }
   ],
   "source": [
    "posppc = numberOfPositive/numberOfDocuments\n",
    "negppc = numberOfNegative/numberOfDocuments\n",
    "posppc"
   ]
  },
  {
   "cell_type": "code",
   "execution_count": 278,
   "metadata": {},
   "outputs": [
    {
     "data": {
      "text/plain": [
       "0.6"
      ]
     },
     "execution_count": 278,
     "metadata": {},
     "output_type": "execute_result"
    }
   ],
   "source": [
    "negppc"
   ]
  },
  {
   "cell_type": "code",
   "execution_count": 279,
   "metadata": {},
   "outputs": [],
   "source": [
    "NeuVoc = []\n",
    "for i in wholelist:\n",
    "    for i in i.split(' '):\n",
    "        if(i!='1' and i!='0'):\n",
    "            NeuVoc.append(i.lower())"
   ]
  },
  {
   "cell_type": "code",
   "execution_count": 280,
   "metadata": {},
   "outputs": [
    {
     "data": {
      "text/plain": [
       "['just',\n",
       " 'plain',\n",
       " 'boring',\n",
       " 'entirely',\n",
       " 'predictable',\n",
       " 'and',\n",
       " 'lacks',\n",
       " 'energy',\n",
       " '',\n",
       " 'no',\n",
       " 'surprises',\n",
       " 'and',\n",
       " 'very',\n",
       " 'few',\n",
       " 'laughs',\n",
       " '',\n",
       " 'very',\n",
       " 'powerful',\n",
       " 'the',\n",
       " 'most',\n",
       " 'fun',\n",
       " 'film',\n",
       " 'of',\n",
       " 'the',\n",
       " 'summer']"
      ]
     },
     "execution_count": 280,
     "metadata": {},
     "output_type": "execute_result"
    }
   ],
   "source": [
    "NeuVoc"
   ]
  },
  {
   "cell_type": "code",
   "execution_count": 281,
   "metadata": {},
   "outputs": [],
   "source": [
    "PosVoc = []\n",
    "for i in positiveDocs:\n",
    "    for i in i.split(' '):\n",
    "        if(i!='1' and i!='0'):\n",
    "            PosVoc.append(i.lower())"
   ]
  },
  {
   "cell_type": "code",
   "execution_count": 282,
   "metadata": {},
   "outputs": [
    {
     "data": {
      "text/plain": [
       "['very', 'powerful', 'the', 'most', 'fun', 'film', 'of', 'the', 'summer']"
      ]
     },
     "execution_count": 282,
     "metadata": {},
     "output_type": "execute_result"
    }
   ],
   "source": [
    "PosVoc"
   ]
  },
  {
   "cell_type": "code",
   "execution_count": 284,
   "metadata": {},
   "outputs": [],
   "source": [
    "NegVoc = []\n",
    "for i in negativeDocs:\n",
    "    for i in i.split(' '):\n",
    "        if(i!='1' and i!='0'):\n",
    "            NegVoc.append(i.lower())"
   ]
  },
  {
   "cell_type": "code",
   "execution_count": 285,
   "metadata": {},
   "outputs": [
    {
     "data": {
      "text/plain": [
       "['just',\n",
       " 'plain',\n",
       " 'boring',\n",
       " 'entirely',\n",
       " 'predictable',\n",
       " 'and',\n",
       " 'lacks',\n",
       " 'energy',\n",
       " '',\n",
       " 'no',\n",
       " 'surprises',\n",
       " 'and',\n",
       " 'very',\n",
       " 'few',\n",
       " 'laughs',\n",
       " '']"
      ]
     },
     "execution_count": 285,
     "metadata": {},
     "output_type": "execute_result"
    }
   ],
   "source": [
    "NegVoc"
   ]
  },
  {
   "cell_type": "code",
   "execution_count": 289,
   "metadata": {},
   "outputs": [
    {
     "data": {
      "text/plain": [
       "{'film': 1,\n",
       " 'fun': 1,\n",
       " 'most': 1,\n",
       " 'of': 1,\n",
       " 'powerful': 1,\n",
       " 'summer': 1,\n",
       " 'the': 2,\n",
       " 'very': 1}"
      ]
     },
     "execution_count": 289,
     "metadata": {},
     "output_type": "execute_result"
    }
   ],
   "source": [
    "PosBag = dict([i, PosVoc.count(i)]for i in PosVoc)\n",
    "PosBag"
   ]
  },
  {
   "cell_type": "code",
   "execution_count": 287,
   "metadata": {},
   "outputs": [
    {
     "data": {
      "text/plain": [
       "{'and': 2,\n",
       " 'boring': 1,\n",
       " 'energy': 1,\n",
       " 'entirely': 1,\n",
       " 'few': 1,\n",
       " 'just': 1,\n",
       " 'lacks': 1,\n",
       " 'laughs': 1,\n",
       " 'no': 1,\n",
       " 'plain': 1,\n",
       " 'predictable': 1,\n",
       " 'surprises': 1,\n",
       " 'very': 1}"
      ]
     },
     "execution_count": 287,
     "metadata": {},
     "output_type": "execute_result"
    }
   ],
   "source": [
    "NegBag = dict([i, NegVoc.count(i)]for i in NegVoc)\n",
    "del NegBag['']\n",
    "NegBag"
   ]
  },
  {
   "cell_type": "code",
   "execution_count": 290,
   "metadata": {},
   "outputs": [],
   "source": [
    "VocBag = dict([i, NeuVoc.count(i)]for i in NeuVoc)\n",
    "del VocBag['']"
   ]
  },
  {
   "cell_type": "code",
   "execution_count": 304,
   "metadata": {},
   "outputs": [
    {
     "data": {
      "text/plain": [
       "{'and': 0.034482758620689655,\n",
       " 'boring': 0.20689655172413793,\n",
       " 'energy': 0.10344827586206896,\n",
       " 'entirely': 0.2413793103448276,\n",
       " 'few': 0.20689655172413793,\n",
       " 'film': 0.3448275862068966,\n",
       " 'fun': 0.2413793103448276,\n",
       " 'just': 0.06896551724137931,\n",
       " 'lacks': 0.2413793103448276,\n",
       " 'laughs': 0.13793103448275862,\n",
       " 'most': 0.06896551724137931,\n",
       " 'no': 0.06896551724137931,\n",
       " 'of': 0.13793103448275862,\n",
       " 'plain': 0.10344827586206896,\n",
       " 'powerful': 0.1724137931034483,\n",
       " 'predictable': 0.20689655172413793,\n",
       " 'summer': 0.20689655172413793,\n",
       " 'surprises': 0.06896551724137931,\n",
       " 'the': 0.3103448275862069,\n",
       " 'very': 0.10344827586206896}"
      ]
     },
     "execution_count": 304,
     "metadata": {},
     "output_type": "execute_result"
    }
   ],
   "source": [
    "posloglike = {}\n",
    "numcount = 1\n",
    "denom = sum(PosBag.values()) + len(VocBag)\n",
    "for key in VocBag:\n",
    "    if(key in PosBag):\n",
    "        numcount += PosBag[key]\n",
    "    posloglike[key] = float(numcount)/float(denom)\n",
    "posloglike"
   ]
  },
  {
   "cell_type": "code",
   "execution_count": 303,
   "metadata": {},
   "outputs": [
    {
     "name": "stdout",
     "output_type": "stream",
     "text": [
      "and3\n",
      "surprises4\n",
      "just5\n",
      "no6\n",
      "very7\n",
      "plain8\n",
      "energy9\n",
      "laughs10\n",
      "few11\n",
      "predictable12\n",
      "boring13\n",
      "entirely14\n",
      "lacks15\n"
     ]
    },
    {
     "data": {
      "text/plain": [
       "{'and': 0.08823529411764706,\n",
       " 'boring': 0.38235294117647056,\n",
       " 'energy': 0.2647058823529412,\n",
       " 'entirely': 0.4117647058823529,\n",
       " 'few': 0.3235294117647059,\n",
       " 'film': 0.4411764705882353,\n",
       " 'fun': 0.38235294117647056,\n",
       " 'just': 0.14705882352941177,\n",
       " 'lacks': 0.4411764705882353,\n",
       " 'laughs': 0.29411764705882354,\n",
       " 'most': 0.08823529411764706,\n",
       " 'no': 0.17647058823529413,\n",
       " 'of': 0.2647058823529412,\n",
       " 'plain': 0.23529411764705882,\n",
       " 'powerful': 0.29411764705882354,\n",
       " 'predictable': 0.35294117647058826,\n",
       " 'summer': 0.29411764705882354,\n",
       " 'surprises': 0.11764705882352941,\n",
       " 'the': 0.4411764705882353,\n",
       " 'very': 0.20588235294117646}"
      ]
     },
     "execution_count": 303,
     "metadata": {},
     "output_type": "execute_result"
    }
   ],
   "source": [
    "negloglike = {}\n",
    "numcount = 1\n",
    "denom = sum(NegBag.values()) + len(VocBag)\n",
    "for key in VocBag:\n",
    "    if(key in NegBag):\n",
    "        numcount += NegBag[key]\n",
    "        print(key + str(numcount))\n",
    "    negloglike[key] = float(numcount)/float(denom)\n",
    "negloglike"
   ]
  },
  {
   "cell_type": "code",
   "execution_count": 297,
   "metadata": {},
   "outputs": [],
   "source": [
    "os.chdir('/home/elementary/nlp-2018-yoofibp/Proj1/sentiment labelled sentences/Sample data/Testing')"
   ]
  },
  {
   "cell_type": "code",
   "execution_count": 298,
   "metadata": {},
   "outputs": [
    {
     "data": {
      "text/plain": [
       "['predictable with no fun']"
      ]
     },
     "execution_count": 298,
     "metadata": {},
     "output_type": "execute_result"
    }
   ],
   "source": [
    "test1 = open('book.txt')\n",
    "alldata = test1.read()\n",
    "alldata = alldata.translate(None, string.punctuation)\n",
    "alldata = alldata.replace('\\t', ' ')\n",
    "alldata = alldata.replace(' 0','')\n",
    "alldata = alldata.replace(' 1','')\n",
    "alllist = alldata.split('\\n')\n",
    "alllist.pop()\n",
    "alllist"
   ]
  },
  {
   "cell_type": "code",
   "execution_count": 253,
   "metadata": {
    "scrolled": true
   },
   "outputs": [
    {
     "data": {
      "text/plain": [
       "{'Bad characters bad story and bad acting  ': -182.73898182584193,\n",
       " 'Both Rickman and Stowe play their roles to the hilt in this tale of a childrens book writer who maybe has written a subversive tract  ': -602.6559722078063,\n",
       " 'Both actors truly understand and become their particular character delivering a convincing sincere performance  ': -766.5634017396768,\n",
       " 'Brilliance indeed  ': -546.5315614274108,\n",
       " 'But if you liked movies like The Matrix and better yet their sequels I think youll appreciate the thought provoking mindblowing experience this film will give you  ': -574.6384570236236,\n",
       " 'But it picked up speed and got right to the point  ': -718.6930039135397,\n",
       " 'Characters are onedimensional even the good guys and especially the bad guys  ': -136.24875254408528,\n",
       " 'Definitely worth seeing\\xc2\\x85 its the sort of thought provoking film that forces you to question your own threshold of loneliness': -833.1435504237572,\n",
       " 'Each track commands sentiment actually contributing to the scenes and characters  ': -812.9399048967165,\n",
       " 'Excellent short film  ': -84.54229332514443,\n",
       " 'For readers who have already seen one of Miyazakis films he is still in top form and made another worthwhile experience  ': -356.81480534466095,\n",
       " 'Funny clever hip  just like Prays previous film Hype  ': -194.380815270093,\n",
       " 'Go rent it  ': -468.58593486321615,\n",
       " 'Hopefully the director James Cox can turn the short into a feature length film with the same cast or win us over with a whole new film  ': -113.68073158858985,\n",
       " 'However after finally watching this film I realized that not only had I had a closed mind to the brilliance it depicts I also found myself watching it over and over again  ': -509.9574026438462,\n",
       " 'I agree with Jessica this movie is pretty bad  ': -121.3718900537487,\n",
       " 'I didnt realize how wonderful the short really is until the last two scenes  ': -82.82371374252877,\n",
       " 'I do not know if this was Emilio Estevezs directorial debut but the pacing the interplay and development of the characters as well as some clever camera work surrounding the character Estevez plays all suggest a natural eye  ': -296.1962454433292,\n",
       " 'I enjoyed it  ': -740.9445053975624,\n",
       " 'I have recommended it to friends  ': -747.7844754630106,\n",
       " 'I rate this movie 910  ': -258.14562530485915,\n",
       " 'I saw this short film on HBO the other day and absolutely loved it  ': -64.73146468233058,\n",
       " 'I was particularly pleased with the acting ability of Dwight Schultz  ': -755.535745922633,\n",
       " 'It never condescends all the characters have good genuine hearts and believable problems  ': -373.4952638778023,\n",
       " 'It presents a idyllic yet serious portrayal of the ups and downs of the characters lives  ': -646.0114679254314,\n",
       " 'It showed exactly how the government and the scientist argued for humanity and the reasons of the gadget  ': -735.9288159843763,\n",
       " 'It was a long time that i didnt see a so charismatic actor on screen  ': -207.72934229810517,\n",
       " 'Its a gloriously fun fast paced and fairly accurate portrayal of the night of a raver  ': -619.2029849572106,\n",
       " 'Its the one movie that never ceases to interest me simply because it keeps me alert as I try to attempt to decipher its meanings  ': -545.0956288155658,\n",
       " 'Its too bad that everyone else involved didnt share Crowes level of dedication to quality for if they did wed have a far better film on our hands than this subpar mess  ': -698.6968673119127,\n",
       " 'Ive seen soap operas more intelligent than this movie  ': -172.66220787928705,\n",
       " 'Just whatever you do avoid Groove as its the antithesis of all that is good about Human Traffic  ': -660.6911167727197,\n",
       " 'Kathy Bates is wonderful in her characters subtle desperation and escapism a variation on her character in At Play In The Fields Of The Lord  ': -329.6539671580868,\n",
       " 'Not easy to watch  ': -188.97251530487273,\n",
       " 'Not much dialogue not much music the whole film was shot as elaborately and aesthetically like a sculpture  ': -164.59140348695593,\n",
       " 'Paolo Sorrentino has written a wonderful story about loneliness and Tony has built one of the most unforgettable characters seen in movies in recent years  ': -235.3251060904296,\n",
       " 'People who like European films and art movies will like this movie  ': -450.0505278273843,\n",
       " 'Really awful  ': -183.6043502126982,\n",
       " 'Simply beautiful  ': -581.5118039917256,\n",
       " 'So I am here to warn youDO NOT RENT THIS MOVIE it is the dumbest thing you have never seen  ': -51.98705301690061,\n",
       " 'The acting is like watching wooden puppets moving around and reading from a book thats how bad it is  ': -27.827457683133,\n",
       " 'The films dialogue is natural real to life  ': -785.5936295647809,\n",
       " 'The incredible soundtrack truly captures the essence of the film  ': -802.8080437782103,\n",
       " 'The interplay between Martin and Emilio contains the same wonderful chemistry we saw in Wall Street with Martin and Charlie  ': -310.69952965786587,\n",
       " 'The movie is not completely perfect but Titta Di Girolamo will stay with you for a long time after the vision of the movie  ': -256.25522147995275,\n",
       " 'The movie seemed a little slow at first  ': -705.4048747139699,\n",
       " 'The scenery that the two daughters paint and photograph are beautiful  ': -432.5670245563469,\n",
       " 'The story is also both funny and poignant at times  ': -440.38020941025616,\n",
       " 'The story line is totally predictable  ': -144.01335538402398,\n",
       " 'The two main characters may be two of the most believable children I ever saw put on screen  ': -395.3922184531664,\n",
       " 'The writer Gorman Bechard undoubtedly did his homework because all references are industry and characterage appropriate  ': -794.9360566274896,\n",
       " 'Their onscreen chemistry critical to the entire film is genuine  ': -776.5967005088345,\n",
       " 'They are so easy to love but even more easy to identify with  ': -413.01352617321464,\n",
       " 'Think of the film being like a dream  ': -580.6791279665549,\n",
       " 'This is truly an art movieit actually has a lot of art in it  ': -465.1633535711258,\n",
       " 'This movie is greatespecially if you enjoy visual arts  ': -425.3214071441113}"
      ]
     },
     "execution_count": 253,
     "metadata": {},
     "output_type": "execute_result"
    }
   ],
   "source": [
    "sentencenegprobs = {}\n",
    "sentenceneglog = 0\n",
    "for i in alllist:\n",
    "    for j in i.split():\n",
    "        if(j in negloglike):\n",
    "            sentenceneglog+=negloglike[j]\n",
    "    totnegprob = sentenceneglog + negppc\n",
    "    sentencenegprobs[i] = totnegprob\n",
    "    \n",
    "sentencenegprobs"
   ]
  },
  {
   "cell_type": "code",
   "execution_count": 310,
   "metadata": {
    "scrolled": true
   },
   "outputs": [
    {
     "data": {
      "text/plain": [
       "{'predictable with no fun': 0.0}"
      ]
     },
     "execution_count": 310,
     "metadata": {},
     "output_type": "execute_result"
    }
   ],
   "source": [
    "sentenceposprobs = {}\n",
    "sentenceposlog = 0\n",
    "for l in alllist:\n",
    "    for k in l.split():\n",
    "        if(k in posloglike):\n",
    "            sentenceposlog*=float(posloglike[k])\n",
    "    totposprob = float(sentenceposlog) * float(posppc)\n",
    "    sentenceposprobs[l] = totposprob\n",
    "    \n",
    "sentenceposprobs"
   ]
  },
  {
   "cell_type": "code",
   "execution_count": 308,
   "metadata": {},
   "outputs": [
    {
     "name": "stdout",
     "output_type": "stream",
     "text": [
      "0.0\n",
      "0.0\n"
     ]
    }
   ],
   "source": [
    "newfile = open('assing2.txt','w')\n",
    "sentencenegprobs = {}\n",
    "sentenceposprobs = {}\n",
    "sentenceneglog = 0\n",
    "sentenceposlog = 0\n",
    "for i in alllist:\n",
    "    for j in i.split():\n",
    "        if(j in negloglike):\n",
    "            sentenceneglog*=negloglike[j]\n",
    "        if(j in posloglike):\n",
    "            sentenceposlog*=posloglike[j]\n",
    "    totnegprob = float(sentenceneglog) *float(negppc)\n",
    "    print(totnegprob)\n",
    "    totposprob = float(sentenceposlog) * float(posppc)\n",
    "    print(totposprob)\n",
    "    sentencenegprobs[i] = totnegprob\n",
    "    sentenceposprobs[i] = totposprob\n",
    "    if(sentencenegprobs[i] > sentenceposprobs[i]):\n",
    "        newfile.write(i + ' 0\\n')\n",
    "    else:\n",
    "        newfile.write(i + ' 1\\n')\n",
    "newfile.close()"
   ]
  },
  {
   "cell_type": "code",
   "execution_count": 256,
   "metadata": {},
   "outputs": [
    {
     "data": {
      "text/plain": [
       "'/home/elementary/nlp-2018-yoofibp/Proj1/sentiment labelled sentences/Sample data/Testing'"
      ]
     },
     "execution_count": 256,
     "metadata": {},
     "output_type": "execute_result"
    }
   ],
   "source": [
    "os.getcwd()"
   ]
  }
 ],
 "metadata": {
  "kernelspec": {
   "display_name": "Python 3",
   "language": "python",
   "name": "python3"
  },
  "language_info": {
   "codemirror_mode": {
    "name": "ipython",
    "version": 2
   },
   "file_extension": ".py",
   "mimetype": "text/x-python",
   "name": "python",
   "nbconvert_exporter": "python",
   "pygments_lexer": "ipython2",
   "version": "2.7.12"
  }
 },
 "nbformat": 4,
 "nbformat_minor": 2
}
