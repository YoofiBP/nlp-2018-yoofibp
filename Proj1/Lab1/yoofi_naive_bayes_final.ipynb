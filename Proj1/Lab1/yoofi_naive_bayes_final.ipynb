{
 "cells": [
  {
   "cell_type": "code",
   "execution_count": 7,
   "metadata": {},
   "outputs": [],
   "source": [
    "##Yoofi Brown-Pobee"
   ]
  },
  {
   "cell_type": "code",
   "execution_count": 8,
   "metadata": {},
   "outputs": [],
   "source": [
    "import math\n",
    "import os\n",
    "import re\n",
    "import string\n",
    "import math"
   ]
  },
  {
   "cell_type": "code",
   "execution_count": 9,
   "metadata": {},
   "outputs": [
    {
     "data": {
      "text/plain": [
       "'/home/elementary/nlp-2018-yoofibp/Proj1/Lab1'"
      ]
     },
     "execution_count": 9,
     "metadata": {},
     "output_type": "execute_result"
    }
   ],
   "source": [
    "os.getcwd()"
   ]
  },
  {
   "cell_type": "code",
   "execution_count": 10,
   "metadata": {},
   "outputs": [],
   "source": [
    "test = 'test_sentences.txt'"
   ]
  },
  {
   "cell_type": "code",
   "execution_count": 11,
   "metadata": {},
   "outputs": [],
   "source": [
    "def naiveBayes(test_file):\n",
    "    array_of_training_files = ['amazon_cells_labelled_training.txt','imdb_labelled_training.txt', 'yelp_labelled.txt']\n",
    "    positiveDocs = []\n",
    "    negativeDocs = []\n",
    "    NeuVoc = []\n",
    "    NegVoc = []\n",
    "    PosVoc = []\n",
    "    posloglike = {}\n",
    "    negloglike = {}\n",
    "    for b in array_of_training_files:\n",
    "        totalfile = open(b)\n",
    "        whole = totalfile.read()\n",
    "        whole = whole.translate(None, string.punctuation)\n",
    "        whole = whole.replace('\\t', ' ')\n",
    "        wholelist = whole.split('\\n')\n",
    "        wholelist.pop()\n",
    "        wholelist.pop()\n",
    "        wholelist\n",
    "        numberOfDocuments = len(wholelist)\n",
    "        numberOfDocuments\n",
    "        for i in wholelist:\n",
    "            if(i[-1] == '1'):\n",
    "                positiveDocs.append(i)\n",
    "            else:\n",
    "                negativeDocs.append(i)\n",
    "        numberOfPositive = float(len(positiveDocs))\n",
    "        numberOfNegative = float(len(negativeDocs))\n",
    "        posppc = numberOfPositive/numberOfDocuments\n",
    "        negppc = numberOfNegative/numberOfDocuments\n",
    "        for i in wholelist:\n",
    "            for i in i.split(' '):\n",
    "                if(i!='1' and i!='0'):\n",
    "                    NeuVoc.append(i.lower())\n",
    "        for i in negativeDocs:\n",
    "            for i in i.split(' '):\n",
    "                if(i!='1' and i!='0'):\n",
    "                    NegVoc.append(i.lower())\n",
    "        for i in positiveDocs:\n",
    "            for i in i.split(' '):\n",
    "                if(i!='1' and i!='0'):\n",
    "                    PosVoc.append(i.lower())\n",
    "        PosBag = dict([i, PosVoc.count(i)]for i in PosVoc)\n",
    "        NegBag = dict([i, NegVoc.count(i)]for i in NegVoc)\n",
    "        VocBag = dict([i, NeuVoc.count(i)]for i in NeuVoc)\n",
    "        del VocBag['']\n",
    "        del NegBag['']\n",
    "        \n",
    "        denom = sum(PosBag.values()) + len(VocBag)\n",
    "        for key in VocBag:\n",
    "            if(key in PosBag):\n",
    "                poscount = PosBag[key] + 1\n",
    "            else: \n",
    "                poscount = 1\n",
    "            ##print(key + \" \" + str(poscount))\n",
    "            posloglike[key] = float(poscount)/float(denom)\n",
    "        \n",
    "        denom = sum(NegBag.values()) + len(VocBag)\n",
    "        for key in VocBag:\n",
    "            if(key in NegBag):\n",
    "                negcount = NegBag[key] + 1\n",
    "            else: \n",
    "                negcount = 1\n",
    "            ##print(key + \" \" + str(negcount))\n",
    "            negloglike[key] = float(negcount)/float(denom)\n",
    "        negloglike\n",
    "    source = open(test_file)\n",
    "    alldata = source.read()\n",
    "    alldata = alldata.translate(None, string.punctuation)\n",
    "    alldata = alldata.replace('\\t', ' ')\n",
    "    alldata = alldata.replace(' 0','')\n",
    "    alldata = alldata.replace(' 1','')\n",
    "    alllist = alldata.split('\\n')\n",
    "    alllist\n",
    "    alllist.pop()\n",
    "    newfile = open('results_file.txt','w')\n",
    "    sentencenegprobs = {}\n",
    "    sentenceposprobs = {}\n",
    "    for i in alllist:\n",
    "        sentenceposlog = 1\n",
    "        sentenceneglog = 1\n",
    "        for j in i.split():\n",
    "            if(j in negloglike):\n",
    "                sentenceneglog*=negloglike[j]\n",
    "            if(j in posloglike):\n",
    "                sentenceposlog*=posloglike[j]\n",
    "            totnegprob = float(sentenceneglog) *float(negppc)\n",
    "            totposprob = float(sentenceposlog) * float(posppc)\n",
    "            sentencenegprobs[i] = totnegprob\n",
    "            sentenceposprobs[i] = totposprob\n",
    "        if(sentencenegprobs[i] > sentenceposprobs[i]):\n",
    "            newfile.write(' 0\\n')\n",
    "        else:\n",
    "            newfile.write(' 1\\n')\n",
    "    newfile.close()\n",
    "    print(sentencenegprobs)\n",
    "    print(sentenceposprobs)"
   ]
  },
  {
   "cell_type": "code",
   "execution_count": 12,
   "metadata": {},
   "outputs": [
    {
     "name": "stdout",
     "output_type": "stream",
     "text": [
      "{'This GPS tracker works like a charm': 2.6078952693936133e-12, 'Clearly Black Panther represents a great step forward on their way to exceptional films and not simply good movies or movies that meet': 1.2136331199158625e-61, 'Had a great experience leasing a new car here working with James Anwari': 2.6621412649381258e-25, 'A bastion of fine dining in The City for 20 years Nancy Oakes Boulevard continues to amaze': 6.022151631774144e-32, 'Pure junk do not buy ever the greatest load of junk I have ever purchased ever': 2.6087327050659384e-36, 'Kevin is very friendly accommodating and has excellent customer service': 1.2570591403696432e-22, 'The DataVac was used and full of dust and dirt': 3.1132378497495303e-18, 'I ordered the Pork Prime Rib Chop it was beautiful scrumptious and totally tender': 6.17953569814896e-23, 'Service Department once the crown jewel of this dealership has definitely lost its shine': 2.179929377507951e-30, 'Shame I cant rate this10': 1.6115999741926255e-07, 'Ill never buy another car from this location again': 6.735595542737347e-24, 'I just bought this Vacuum Its just good for nothing': 4.256601119492507e-18, 'Buy something else': 8.4417141505328e-08, 'Following the showing we were all dissapointed by a mess of a movie with little plot and little thought which only served as a pit stop for infinity war': 1.3567035965010445e-67, 'When I opened the box the product was not in the cutouts snd the protective cover was not on the unit': 3.313485525753258e-45, 'Total waste of time': 1.1277449287981921e-07, 'I use it mostly to vacuum threads on the sewing machine It is just the right size for this task': 3.9088770331799425e-39, 'I have found this mini vac to be everything it is said to be': 4.823150668148361e-31, 'If this is critically acclaimed and highly rated how bad must a flick be to get a low rating': 3.881038739094391e-47, 'This movie has it all Great acting  action effects  costumes music and scenery': 4.466835323211299e-34, 'Took my brand new bmw in for service When I picked it up there were scratches all over the car': 3.67065000397345e-40, 'Not so greatbought to clean the bobbin case area of my Brother and Baby Lock Quilting and Embroidery machines': 4.492355851933344e-24, 'Everyone should have one who owns a computer': 2.2984256450494644e-21, 'This is just perfect for vacuuming out the lint from my sewing machine': 4.891623593091226e-24, 'It is a great size I keep it in my desk drawer at work and beause I teach wood shop its going to get a lot of use': 1.0489336244575448e-55}\n",
      "{'This GPS tracker works like a charm': 1.1210162556932967e-10, 'Clearly Black Panther represents a great step forward on their way to exceptional films and not simply good movies or movies that meet': 4.081031044671085e-59, 'Had a great experience leasing a new car here working with James Anwari': 1.8660685356051086e-23, 'A bastion of fine dining in The City for 20 years Nancy Oakes Boulevard continues to amaze': 1.1849776709558452e-30, 'Pure junk do not buy ever the greatest load of junk I have ever purchased ever': 2.879824867112825e-40, 'Kevin is very friendly accommodating and has excellent customer service': 1.0738393002370484e-20, 'The DataVac was used and full of dust and dirt': 9.811175288874266e-19, 'I ordered the Pork Prime Rib Chop it was beautiful scrumptious and totally tender': 4.042206475688085e-21, 'Service Department once the crown jewel of this dealership has definitely lost its shine': 1.5749495465260165e-29, 'Shame I cant rate this10': 8.599334397470427e-08, 'Ill never buy another car from this location again': 6.341787731299153e-25, 'I just bought this Vacuum Its just good for nothing': 1.2456962208399274e-18, 'Buy something else': 2.6872919992095084e-08, 'Following the showing we were all dissapointed by a mess of a movie with little plot and little thought which only served as a pit stop for infinity war': 1.3068706184246954e-69, 'When I opened the box the product was not in the cutouts snd the protective cover was not on the unit': 7.463393687905778e-49, 'Total waste of time': 3.1034777344716992e-09, 'I use it mostly to vacuum threads on the sewing machine It is just the right size for this task': 1.2142581820852971e-38, 'I have found this mini vac to be everything it is said to be': 5.954714721019536e-31, 'If this is critically acclaimed and highly rated how bad must a flick be to get a low rating': 1.2898539701163094e-49, 'This movie has it all Great acting  action effects  costumes music and scenery': 3.262789420424511e-33, 'Took my brand new bmw in for service When I picked it up there were scratches all over the car': 2.086822023886276e-41, 'Not so greatbought to clean the bobbin case area of my Brother and Baby Lock Quilting and Embroidery machines': 1.5051476759781064e-23, 'Everyone should have one who owns a computer': 1.6347674236880774e-21, 'This is just perfect for vacuuming out the lint from my sewing machine': 5.428280327312834e-23, 'It is a great size I keep it in my desk drawer at work and beause I teach wood shop its going to get a lot of use': 4.1746416885496685e-55}\n"
     ]
    }
   ],
   "source": [
    "naiveBayes(test)"
   ]
  }
 ],
 "metadata": {
  "kernelspec": {
   "display_name": "Python 3",
   "language": "python",
   "name": "python3"
  },
  "language_info": {
   "codemirror_mode": {
    "name": "ipython",
    "version": 3
   },
   "file_extension": ".py",
   "mimetype": "text/x-python",
   "name": "python",
   "nbconvert_exporter": "python",
   "pygments_lexer": "ipython3",
   "version": "3.7.0"
  }
 },
 "nbformat": 4,
 "nbformat_minor": 2
}
