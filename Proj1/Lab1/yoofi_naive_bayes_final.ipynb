{
 "cells": [
  {
   "cell_type": "code",
   "execution_count": 7,
   "metadata": {},
   "outputs": [],
   "source": [
    "##Yoofi Brown-Pobee"
   ]
  },
  {
   "cell_type": "code",
   "execution_count": 8,
   "metadata": {},
   "outputs": [],
   "source": [
    "import math\n",
    "import os\n",
    "import re\n",
    "import string\n",
    "import math"
   ]
  },
  {
   "cell_type": "code",
   "execution_count": 9,
   "metadata": {},
   "outputs": [
    {
     "data": {
      "text/plain": [
       "'/home/elementary/nlp-2018-yoofibp/Proj1/Lab1'"
      ]
     },
     "execution_count": 9,
     "metadata": {},
     "output_type": "execute_result"
    }
   ],
   "source": [
    "os.getcwd()"
   ]
  },
  {
   "cell_type": "code",
   "execution_count": 10,
   "metadata": {},
   "outputs": [],
   "source": [
    "test = 'IMDB.txt'"
   ]
  },
  {
   "cell_type": "code",
   "execution_count": 11,
   "metadata": {},
   "outputs": [],
   "source": [
    "def naiveBayes(test_file):\n",
    "    array_of_training_files = ['amazon_cells_labelled_training.txt','imdb_labelled_training.txt', 'yelp_labelled.txt']\n",
    "    positiveDocs = []\n",
    "    negativeDocs = []\n",
    "    NeuVoc = []\n",
    "    NegVoc = []\n",
    "    PosVoc = []\n",
    "    posloglike = {}\n",
    "    negloglike = {}\n",
    "    for b in array_of_training_files:\n",
    "        totalfile = open(b)\n",
    "        whole = totalfile.read()\n",
    "        whole = whole.translate(None, string.punctuation)\n",
    "        whole = whole.replace('\\t', ' ')\n",
    "        wholelist = whole.split('\\n')\n",
    "        wholelist.pop()\n",
    "        wholelist.pop()\n",
    "        wholelist\n",
    "        numberOfDocuments = len(wholelist)\n",
    "        numberOfDocuments\n",
    "        for i in wholelist:\n",
    "            if(i[-1] == '1'):\n",
    "                positiveDocs.append(i)\n",
    "            else:\n",
    "                negativeDocs.append(i)\n",
    "        numberOfPositive = float(len(positiveDocs))\n",
    "        numberOfNegative = float(len(negativeDocs))\n",
    "        posppc = numberOfPositive/numberOfDocuments\n",
    "        negppc = numberOfNegative/numberOfDocuments\n",
    "        for i in wholelist:\n",
    "            for i in i.split(' '):\n",
    "                if(i!='1' and i!='0'):\n",
    "                    NeuVoc.append(i.lower())\n",
    "        for i in negativeDocs:\n",
    "            for i in i.split(' '):\n",
    "                if(i!='1' and i!='0'):\n",
    "                    NegVoc.append(i.lower())\n",
    "        for i in positiveDocs:\n",
    "            for i in i.split(' '):\n",
    "                if(i!='1' and i!='0'):\n",
    "                    PosVoc.append(i.lower())\n",
    "        PosBag = dict([i, PosVoc.count(i)]for i in PosVoc)\n",
    "        NegBag = dict([i, NegVoc.count(i)]for i in NegVoc)\n",
    "        VocBag = dict([i, NeuVoc.count(i)]for i in NeuVoc)\n",
    "        del VocBag['']\n",
    "        del NegBag['']\n",
    "        \n",
    "        denom = sum(PosBag.values()) + len(VocBag)\n",
    "        for key in VocBag:\n",
    "            if(key in PosBag):\n",
    "                poscount = PosBag[key] + 1\n",
    "            else: \n",
    "                poscount = 1\n",
    "            ##print(key + \" \" + str(poscount))\n",
    "            posloglike[key] = float(poscount)/float(denom)\n",
    "        \n",
    "        denom = sum(NegBag.values()) + len(VocBag)\n",
    "        for key in VocBag:\n",
    "            if(key in NegBag):\n",
    "                negcount = NegBag[key] + 1\n",
    "            else: \n",
    "                negcount = 1\n",
    "            ##print(key + \" \" + str(negcount))\n",
    "            negloglike[key] = float(negcount)/float(denom)\n",
    "        negloglike\n",
    "    source = open(test_file)\n",
    "    alldata = source.read()\n",
    "    alldata = alldata.translate(None, string.punctuation)\n",
    "    alldata = alldata.replace('\\t', ' ')\n",
    "    alldata = alldata.replace(' 0','')\n",
    "    alldata = alldata.replace(' 1','')\n",
    "    alllist = alldata.split('\\n')\n",
    "    alllist\n",
    "    alllist.pop()\n",
    "    newfile = open('results_file.txt','w')\n",
    "    sentencenegprobs = {}\n",
    "    sentenceposprobs = {}\n",
    "    for i in alllist:\n",
    "        sentenceposlog = 1\n",
    "        sentenceneglog = 1\n",
    "        for j in i.split():\n",
    "            if(j in negloglike):\n",
    "                sentenceneglog*=negloglike[j]\n",
    "            if(j in posloglike):\n",
    "                sentenceposlog*=posloglike[j]\n",
    "            totnegprob = float(sentenceneglog) *float(negppc)\n",
    "            totposprob = float(sentenceposlog) * float(posppc)\n",
    "            sentencenegprobs[i] = totnegprob\n",
    "            sentenceposprobs[i] = totposprob\n",
    "        if(sentencenegprobs[i] > sentenceposprobs[i]):\n",
    "            newfile.write(' 0\\n')\n",
    "        else:\n",
    "            newfile.write(' 1\\n')\n",
    "    newfile.close()\n",
    "    print(sentencenegprobs)\n",
    "    print(sentenceposprobs)"
   ]
  },
  {
   "cell_type": "code",
   "execution_count": 12,
   "metadata": {},
   "outputs": [
    {
     "name": "stdout",
     "output_type": "stream",
     "text": [
      "{'It presents a idyllic yet serious portrayal of the ups and downs of the characters lives  ': 2.2587099073416208e-38, 'The scenery that the two daughters paint and photograph are beautiful  ': 3.4478439096324526e-20, 'The story line is totally predictable  ': 2.0241328337716823e-15, 'Bad characters bad story and bad acting  ': 3.4839501156382614e-16, 'Its the one movie that never ceases to interest me simply because it keeps me alert as I try to attempt to decipher its meanings  ': 1.0146936498487694e-54, 'I rate this movie 910  ': 1.1141998088106063e-08, 'Think of the film being like a dream  ': 1.519392210939873e-13, 'The films dialogue is natural real to life  ': 7.097307899878439e-17, 'However after finally watching this film I realized that not only had I had a closed mind to the brilliance it depicts I also found myself watching it over and over again  ': 8.2011261745422455e-75, 'Go rent it  ': 3.621303513438787e-06, 'I enjoyed it  ': 7.242607026877574e-07, 'The incredible soundtrack truly captures the essence of the film  ': 5.925931016093872e-20, 'Really awful  ': 0.0014552575095533602, 'Definitely worth seeing\\xc2\\x85 its the sort of thought provoking film that forces you to question your own threshold of loneliness': 5.930466041603922e-43, 'Not easy to watch  ': 2.4599914768802286e-09, 'Kathy Bates is wonderful in her characters subtle desperation and escapism a variation on her character in At Play In The Fields Of The Lord  ': 3.470754695640344e-34, 'Paolo Sorrentino has written a wonderful story about loneliness and Tony has built one of the most unforgettable characters seen in movies in recent years  ': 1.015459968506285e-57, 'The acting is like watching wooden puppets moving around and reading from a book thats how bad it is  ': 1.3085656759960383e-51, 'This is truly an art movieit actually has a lot of art in it  ': 2.0438838216161412e-33, 'Each track commands sentiment actually contributing to the scenes and characters  ': 6.473765099317004e-20, 'It was a long time that i didnt see a so charismatic actor on screen  ': 3.804448964036835e-33, 'They are so easy to love but even more easy to identify with  ': 2.451397837065748e-34, 'So I am here to warn youDO NOT RENT THIS MOVIE it is the dumbest thing you have never seen  ': 1.5813963357663054e-26, 'Both Rickman and Stowe play their roles to the hilt in this tale of a childrens book writer who maybe has written a subversive tract  ': 4.056127459927372e-52, 'I have recommended it to friends  ': 6.152293878788644e-14, 'This movie is greatespecially if you enjoy visual arts  ': 5.07571694842681e-17, 'I do not know if this was Emilio Estevezs directorial debut but the pacing the interplay and development of the characters as well as some clever camera work surrounding the character Estevez plays all suggest a natural eye  ': 6.606616490547029e-87, 'People who like European films and art movies will like this movie  ': 1.6368402232818648e-27, 'Its a gloriously fun fast paced and fairly accurate portrayal of the night of a raver  ': 1.0749839504704069e-34, 'I saw this short film on HBO the other day and absolutely loved it  ': 8.585863419665263e-34, 'Hopefully the director James Cox can turn the short into a feature length film with the same cast or win us over with a whole new film  ': 3.841195519116358e-64, 'But if you liked movies like The Matrix and better yet their sequels I think youll appreciate the thought provoking mindblowing experience this film will give you  ': 1.3991492326328428e-59, 'For readers who have already seen one of Miyazakis films he is still in top form and made another worthwhile experience  ': 1.004609663831854e-57, 'Their onscreen chemistry critical to the entire film is genuine  ': 1.6043440304400884e-19, 'It showed exactly how the government and the scientist argued for humanity and the reasons of the gadget  ': 1.6298990129780797e-33, 'Excellent short film  ': 1.1712878383864258e-06, 'Brilliance indeed  ': 3.731429511675283e-05, 'It never condescends all the characters have good genuine hearts and believable problems  ': 1.1497555435478633e-32, 'Both actors truly understand and become their particular character delivering a convincing sincere performance  ': 1.8926142957168016e-40, 'Funny clever hip  just like Prays previous film Hype  ': 1.974699133031181e-20, 'I was particularly pleased with the acting ability of Dwight Schultz  ': 3.717204082364796e-23, 'The two main characters may be two of the most believable children I ever saw put on screen  ': 1.4699772920822772e-49, 'Characters are onedimensional even the good guys and especially the bad guys  ': 1.2541580368415876e-27, 'The story is also both funny and poignant at times  ': 9.087707185788221e-23, 'I agree with Jessica this movie is pretty bad  ': 2.680359131627468e-14, 'Its too bad that everyone else involved didnt share Crowes level of dedication to quality for if they did wed have a far better film on our hands than this subpar mess  ': 2.587402056984385e-89, 'Just whatever you do avoid Groove as its the antithesis of all that is good about Human Traffic  ': 8.163229887924026e-32, 'I didnt realize how wonderful the short really is until the last two scenes  ': 3.128548886927636e-39, 'Ive seen soap operas more intelligent than this movie  ': 1.5823804526728092e-17, 'But it picked up speed and got right to the point  ': 2.4262331115392641e-23, 'The interplay between Martin and Emilio contains the same wonderful chemistry we saw in Wall Street with Martin and Charlie  ': 8.143289035594988e-35, 'Simply beautiful  ': 3.731429511675283e-05, 'The movie is not completely perfect but Titta Di Girolamo will stay with you for a long time after the vision of the movie  ': 5.480228715631849e-46, 'Not much dialogue not much music the whole film was shot as elaborately and aesthetically like a sculpture  ': 2.5614729388963614e-36, 'The movie seemed a little slow at first  ': 8.964837791775605e-20, 'The writer Gorman Bechard undoubtedly did his homework because all references are industry and characterage appropriate  ': 7.467745742809185e-34}\n",
      "{'It presents a idyllic yet serious portrayal of the ups and downs of the characters lives  ': 1.972958668512485e-37, 'The scenery that the two daughters paint and photograph are beautiful  ': 3.607606983059579e-18, 'The story line is totally predictable  ': 2.1606172508401045e-16, 'Bad characters bad story and bad acting  ': 3.181512442736638e-19, 'Its the one movie that never ceases to interest me simply because it keeps me alert as I try to attempt to decipher its meanings  ': 3.489284654570357e-57, 'I rate this movie 910  ': 1.2787274784381097e-08, 'Think of the film being like a dream  ': 1.3713418217665426e-13, 'The films dialogue is natural real to life  ': 1.1152615555710753e-17, 'However after finally watching this film I realized that not only had I had a closed mind to the brilliance it depicts I also found myself watching it over and over again  ': 3.8767845685137134e-77, 'Go rent it  ': 2.9067541791449517e-06, 'I enjoyed it  ': 1.1627016716579807e-05, 'The incredible soundtrack truly captures the essence of the film  ': 3.160874159859415e-18, 'Really awful  ': 0.0001432326635578668, 'Definitely worth seeing\\xc2\\x85 its the sort of thought provoking film that forces you to question your own threshold of loneliness': 6.281386526085008e-42, 'Not easy to watch  ': 1.082479535141241e-08, 'Kathy Bates is wonderful in her characters subtle desperation and escapism a variation on her character in At Play In The Fields Of The Lord  ': 4.0348916783940424e-31, 'Paolo Sorrentino has written a wonderful story about loneliness and Tony has built one of the most unforgettable characters seen in movies in recent years  ': 1.2795223606857673e-55, 'The acting is like watching wooden puppets moving around and reading from a book thats how bad it is  ': 4.2906888298377884e-55, 'This is truly an art movieit actually has a lot of art in it  ': 1.413326425729782e-31, 'Each track commands sentiment actually contributing to the scenes and characters  ': 2.0961192703896404e-19, 'It was a long time that i didnt see a so charismatic actor on screen  ': 1.3333636740317603e-33, 'They are so easy to love but even more easy to identify with  ': 1.1377714182229988e-31, 'So I am here to warn youDO NOT RENT THIS MOVIE it is the dumbest thing you have never seen  ': 5.186690857048447e-28, 'Both Rickman and Stowe play their roles to the hilt in this tale of a childrens book writer who maybe has written a subversive tract  ': 2.3511864944760958e-49, 'I have recommended it to friends  ': 7.644936530693003e-14, 'This movie is greatespecially if you enjoy visual arts  ': 1.355877065548042e-17, 'I do not know if this was Emilio Estevezs directorial debut but the pacing the interplay and development of the characters as well as some clever camera work surrounding the character Estevez plays all suggest a natural eye  ': 1.018648134076794e-87, 'People who like European films and art movies will like this movie  ': 4.0754490159056096e-27, 'Its a gloriously fun fast paced and fairly accurate portrayal of the night of a raver  ': 2.9569733710798118e-33, 'I saw this short film on HBO the other day and absolutely loved it  ': 2.150105432193918e-31, 'Hopefully the director James Cox can turn the short into a feature length film with the same cast or win us over with a whole new film  ': 7.16904562912198e-65, 'But if you liked movies like The Matrix and better yet their sequels I think youll appreciate the thought provoking mindblowing experience this film will give you  ': 1.1175299766712104e-56, 'For readers who have already seen one of Miyazakis films he is still in top form and made another worthwhile experience  ': 1.9374443029491995e-57, 'Their onscreen chemistry critical to the entire film is genuine  ': 2.1309958391459186e-20, 'It showed exactly how the government and the scientist argued for humanity and the reasons of the gadget  ': 3.6128387879877077e-32, 'Excellent short film  ': 1.3140857876134497e-06, 'Brilliance indeed  ': 0.0002506571612262669, 'It never condescends all the characters have good genuine hearts and believable problems  ': 1.6719304912468792e-32, 'Both actors truly understand and become their particular character delivering a convincing sincere performance  ': 2.9498898436481425e-40, 'Funny clever hip  just like Prays previous film Hype  ': 2.6347522833071008e-20, 'I was particularly pleased with the acting ability of Dwight Schultz  ': 3.9749774681159746e-22, 'The two main characters may be two of the most believable children I ever saw put on screen  ': 4.1740625412448457e-50, 'Characters are onedimensional even the good guys and especially the bad guys  ': 1.033675023263291e-27, 'The story is also both funny and poignant at times  ': 2.8554323805192343e-22, 'I agree with Jessica this movie is pretty bad  ': 3.2153739523054035e-15, 'Its too bad that everyone else involved didnt share Crowes level of dedication to quality for if they did wed have a far better film on our hands than this subpar mess  ': 4.446134721578722e-92, 'Just whatever you do avoid Groove as its the antithesis of all that is good about Human Traffic  ': 5.4269754246737234e-33, 'I didnt realize how wonderful the short really is until the last two scenes  ': 2.6743652716302534e-39, 'Ive seen soap operas more intelligent than this movie  ': 6.319564669290926e-18, 'But it picked up speed and got right to the point  ': 1.5704922571417943e-24, 'The interplay between Martin and Emilio contains the same wonderful chemistry we saw in Wall Street with Martin and Charlie  ': 6.23313150875082e-35, 'Simply beautiful  ': 0.0011100531425734677, 'The movie is not completely perfect but Titta Di Girolamo will stay with you for a long time after the vision of the movie  ': 9.415757323855109e-48, 'Not much dialogue not much music the whole film was shot as elaborately and aesthetically like a sculpture  ': 3.4193798994808274e-38, 'The movie seemed a little slow at first  ': 3.0112732214181013e-22, 'The writer Gorman Bechard undoubtedly did his homework because all references are industry and characterage appropriate  ': 2.6523696372808105e-32}\n"
     ]
    }
   ],
   "source": [
    "naiveBayes(test)"
   ]
  }
 ],
 "metadata": {
  "kernelspec": {
   "display_name": "Python 3",
   "language": "python",
   "name": "python3"
  },
  "language_info": {
   "codemirror_mode": {
    "name": "ipython",
    "version": 2
   },
   "file_extension": ".py",
   "mimetype": "text/x-python",
   "name": "python",
   "nbconvert_exporter": "python",
   "pygments_lexer": "ipython2",
   "version": "2.7.12"
  }
 },
 "nbformat": 4,
 "nbformat_minor": 2
}
