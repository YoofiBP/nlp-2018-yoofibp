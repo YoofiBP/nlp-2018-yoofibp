{
 "cells": [
  {
   "cell_type": "code",
   "execution_count": 29,
   "metadata": {},
   "outputs": [],
   "source": [
    "import math\n",
    "import os\n",
    "import re\n",
    "import string\n",
    "import math"
   ]
  },
  {
   "cell_type": "code",
   "execution_count": 30,
   "metadata": {},
   "outputs": [
    {
     "data": {
      "text/plain": [
       "'/home/elementary/nlp-2018-yoofibp/Proj1'"
      ]
     },
     "execution_count": 30,
     "metadata": {},
     "output_type": "execute_result"
    }
   ],
   "source": [
    "os.getcwd()"
   ]
  },
  {
   "cell_type": "code",
   "execution_count": 31,
   "metadata": {},
   "outputs": [],
   "source": [
    "arr = ['book_training.txt']\n",
    "test = 'book_testing.txt'"
   ]
  },
  {
   "cell_type": "code",
   "execution_count": 32,
   "metadata": {},
   "outputs": [],
   "source": [
    "def naiveBayes(test_file, array_of_training_files):\n",
    "    for i in array_of_training_files:\n",
    "        totalfile = open(i)\n",
    "        whole = totalfile.read()\n",
    "        whole = whole.translate(None, string.punctuation)\n",
    "        whole = whole.replace('\\t', ' ')\n",
    "        wholelist = whole.split('\\n')\n",
    "        positiveDocs = []\n",
    "        negativeDocs = []\n",
    "        wholelist.pop()\n",
    "        wholelist.pop()\n",
    "        numberOfDocuments = len(wholelist)\n",
    "        for i in wholelist:\n",
    "            if(i[-1] == '1'):\n",
    "                positiveDocs.append(i)\n",
    "            else:\n",
    "                negativeDocs.append(i)\n",
    "        numberOfPositive = float(len(positiveDocs))\n",
    "        numberOfNegative = float(len(negativeDocs))\n",
    "        posppc = numberOfPositive/numberOfDocuments\n",
    "        negppc = numberOfNegative/numberOfDocuments\n",
    "        NeuVoc = []\n",
    "        for i in wholelist:\n",
    "            for i in i.split(' '):\n",
    "                if(i!='1' and i!='0'):\n",
    "                    NeuVoc.append(i.lower())\n",
    "        NegVoc = []\n",
    "        for i in negativeDocs:\n",
    "            for i in i.split(' '):\n",
    "                if(i!='1' and i!='0'):\n",
    "                    NegVoc.append(i.lower())\n",
    "        PosVoc = []\n",
    "        for i in positiveDocs:\n",
    "            for i in i.split(' '):\n",
    "                if(i!='1' and i!='0'):\n",
    "                    PosVoc.append(i.lower())\n",
    "        PosBag = dict([i, PosVoc.count(i)]for i in PosVoc)\n",
    "        NegBag = dict([i, NegVoc.count(i)]for i in NegVoc)\n",
    "        VocBag = dict([i, NeuVoc.count(i)]for i in NeuVoc)\n",
    "        posloglike = {}\n",
    "        denom = sum(PosBag.values()) + len(VocBag)\n",
    "        for key in VocBag:\n",
    "            if(key in PosBag):\n",
    "                poscount = PosBag[key] + 1\n",
    "            else: \n",
    "                poscount = 1\n",
    "            print(key + \" \" + str(poscount))\n",
    "            posloglike[key] = float(poscount)/float(denom)\n",
    "        posloglike\n",
    "        negloglike = {}\n",
    "        denom = sum(NegBag.values()) + len(VocBag)\n",
    "        for key in VocBag:\n",
    "            if(key in NegBag):\n",
    "                negcount = NegBag[key] + 1\n",
    "            else: \n",
    "                negcount = 1\n",
    "            print(key + \" \" + str(negcount))\n",
    "            negloglike[key] = float(negcount)/float(denom)\n",
    "        negloglike\n",
    "    source = open(test_file)\n",
    "    alldata = source.read()\n",
    "    alldata = alldata.translate(None, string.punctuation)\n",
    "    alldata = alldata.replace('\\t', ' ')\n",
    "    alldata = alldata.replace(' 0','')\n",
    "    alldata = alldata.replace(' 1','')\n",
    "    alllist = alldata.split('\\n')\n",
    "    alllist.pop()\n",
    "    newfile = open('results.txt','w')\n",
    "    sentencenegprobs = {}\n",
    "    sentenceposprobs = {}\n",
    "    for i in alllist:\n",
    "        sentenceposlog = 1\n",
    "        sentenceneglog = 1\n",
    "        for j in i.split():\n",
    "            if(j in negloglike):\n",
    "                sentenceneglog*=negloglike[j]\n",
    "            if(j in posloglike):\n",
    "                sentenceposlog*=posloglike[j]\n",
    "        totnegprob = float(sentenceneglog) *float(negppc)\n",
    "        print(totnegprob)\n",
    "        totposprob = float(sentenceposlog) * float(posppc)\n",
    "        print(totposprob)\n",
    "        sentencenegprobs[i] = totnegprob\n",
    "        print(\" \")\n",
    "        print(sentencenegprobs)\n",
    "        sentenceposprobs[i] = totposprob\n",
    "        if(sentencenegprobs[i] > sentenceposprobs[i]):\n",
    "            newfile.write(i + ' 0\\n')\n",
    "        else:\n",
    "            newfile.write(i + ' 1\\n')\n",
    "    newfile.close()"
   ]
  },
  {
   "cell_type": "code",
   "execution_count": 33,
   "metadata": {},
   "outputs": [
    {
     "name": "stdout",
     "output_type": "stream",
     "text": [
      "and 1\n",
      " 1\n",
      "most 2\n",
      "surprises 1\n",
      "just 1\n",
      "no 1\n",
      "very 2\n",
      "plain 1\n",
      "energy 1\n",
      "of 2\n",
      "laughs 1\n",
      "powerful 2\n",
      "summer 2\n",
      "few 1\n",
      "predictable 1\n",
      "boring 1\n",
      "fun 2\n",
      "entirely 1\n",
      "lacks 1\n",
      "the 3\n",
      "film 2\n",
      "and 3\n",
      " 3\n",
      "most 1\n",
      "surprises 2\n",
      "just 2\n",
      "no 2\n",
      "very 2\n",
      "plain 2\n",
      "energy 2\n",
      "of 1\n",
      "laughs 2\n",
      "powerful 1\n",
      "summer 1\n",
      "few 2\n",
      "predictable 2\n",
      "boring 2\n",
      "fun 1\n",
      "entirely 2\n",
      "lacks 2\n",
      "the 1\n",
      "film 1\n",
      "4.73812015083e-05\n",
      "2.96296296296e-05\n",
      " \n",
      "{'predictable with no fun': 4.7381201508301594e-05}\n"
     ]
    }
   ],
   "source": [
    "naiveBayes(test,arr)"
   ]
  }
 ],
 "metadata": {
  "kernelspec": {
   "display_name": "Python 3",
   "language": "python",
   "name": "python3"
  },
  "language_info": {
   "codemirror_mode": {
    "name": "ipython",
    "version": 2
   },
   "file_extension": ".py",
   "mimetype": "text/x-python",
   "name": "python",
   "nbconvert_exporter": "python",
   "pygments_lexer": "ipython2",
   "version": "2.7.12"
  }
 },
 "nbformat": 4,
 "nbformat_minor": 2
}
