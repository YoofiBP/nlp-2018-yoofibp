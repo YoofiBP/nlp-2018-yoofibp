{
 "cells": [
  {
   "cell_type": "code",
   "execution_count": 1,
   "metadata": {},
   "outputs": [
    {
     "name": "stdout",
     "output_type": "stream",
     "text": [
      "[nltk_data] Downloading package stopwords to\n",
      "[nltk_data]     /home/elementary/nltk_data...\n",
      "[nltk_data]   Package stopwords is already up-to-date!\n"
     ]
    }
   ],
   "source": [
    "import nltk\n",
    "from textblob import TextBlob\n",
    "import csv\n",
    "import re\n",
    "import sys\n",
    "from sklearn.model_selection import train_test_split\n",
    "from sklearn.naive_bayes import GaussianNB, BernoulliNB, MultinomialNB\n",
    "from sklearn.feature_extraction.text import CountVectorizer\n",
    "from sklearn.metrics import confusion_matrix, classification_report\n",
    "from sklearn.linear_model import LogisticRegression\n",
    "import time\n",
    "import string\n",
    "import os\n",
    "import nltk\n",
    "nltk.download('stopwords')\n",
    "from nltk.corpus import stopwords"
   ]
  },
  {
   "cell_type": "code",
   "execution_count": 1,
   "metadata": {},
   "outputs": [],
   "source": [
    "def sentiment_analyzer(classifier, norm, textfile):\n",
    "    X, Y = datasplitter(textfile)\n",
    "    \n",
    "    '''Based on whether it is normalised or the vectorizer converts\n",
    "    the text into a matrix of token(word) counts. Each word in\n",
    "    the entire corpus is counted and the word count in each review\n",
    "    is recorded. The four lines below 'train' the vectorizer on the \n",
    "    corpus of reviews X. Hence anything passed through the vectorizer\n",
    "    will be counted against the corpus X. The analyzer parameter\n",
    "    will run the function stated on each entry before outputting tokens'''\n",
    "    if(norm == \"n\"):\n",
    "        transformer = CountVectorizer(analyzer=normalize).fit(X)\n",
    "    else:\n",
    "        transformer = CountVectorizer(analyzer=splitup).fit(X)\n",
    "        \n",
    "    '''Tokenizing each word in X against the entire corpus'''\n",
    "    real_x = transformer.transform(X)\n",
    "    \n",
    "    '''Splitting our data into training and test data. X_train \n",
    "    contains part of reviews while y_train contains the their \n",
    "    corresponding sentiments. X_test is the test corpus with y_test\n",
    "    its corresponding sentiments. The test_size parameter specifies\n",
    "    the percentage of the entire corpus (real_x) to make testing data'''\n",
    "    X_train, X_test, y_train, y_test = train_test_split(real_x, Y, test_size=0.3, random_state=101)\n",
    "    \n",
    "    '''A Multinomial Naive Bayes (MultinomialNB) is used as it is a \n",
    "    version of Naive Bayes designed more for text documents.\n",
    "    Logisitic Regression classifier (LogisitcRegression) trains and \n",
    "    classifies using Logisitic Regression'''\n",
    "    \n",
    "    if(classifier == \"nb\"):\n",
    "        class_type = MultinomialNB()\n",
    "    else:\n",
    "        class_type = LogisticRegression()\n",
    "        \n",
    "    '''Training the classifier with the training data X_train\n",
    "    and y_train. Think of training as the classifier learning\n",
    "    the sentiments each word expresses with the goal of predicting\n",
    "    the sentiment of a new word.'''\n",
    "    class_type.fit(X_train,y_train)\n",
    "    \n",
    "    '''Predicting the class of test data having been learned\n",
    "    with training data'''\n",
    "    pred = class_type.predict(X_test)\n",
    "    \n",
    "    '''Writing results to a text file'''\n",
    "    newfile = open('results-'+classifier+'-'+norm+'.txt','w')\n",
    "    for i in pred:\n",
    "        newfile.write(i+'\\n')\n",
    "    newfile.close()\n",
    "    result_breakdown(y_test,pred)"
   ]
  },
  {
   "cell_type": "code",
   "execution_count": 2,
   "metadata": {},
   "outputs": [],
   "source": [
    "def datasplitter(textfile):\n",
    "    #Opening and reading the textfile\n",
    "    data = open(textfile)\n",
    "    text = data.read()\n",
    "    \n",
    "    '''Creating a list of sentences by splitting based on\n",
    "    the new line character and removing spaces that appear\n",
    "    as individual elements'''\n",
    "    text2 = text.split('\\n')\n",
    "    text2.remove('')\n",
    "    sentiments = []\n",
    "    reviews = []\n",
    "    pos_neg=[]\n",
    "    \n",
    "    '''Removing sentiment scores from each list element using\n",
    "    regular expressions. It identifies a tab character \n",
    "    following by a number, puts it into a list and removes it\n",
    "    from the sentence it was found. All tab characters are \n",
    "    then removed from the sentiment list to leave only the \n",
    "    scores'''\n",
    "    regex = re.compile(r'\\t.{1}')\n",
    "    for i in text2:\n",
    "        if(regex.search(i)!=None):\n",
    "            match = regex.search(i).group()\n",
    "            sentiments.append(match)\n",
    "            reviews.append(i.replace(match,''))\n",
    "    for i in sentiments:\n",
    "        pos_neg.append(i.replace('\\t',''))\n",
    "        \n",
    "    '''Returns a list of reviews and a corresponding list\n",
    "    of sentiments expressed'''\n",
    "    return reviews, pos_neg"
   ]
  },
  {
   "cell_type": "code",
   "execution_count": 3,
   "metadata": {},
   "outputs": [],
   "source": [
    "'''Function to normalize text by removing stopwords: common \n",
    "words like the, a, an etc. It also removes punctuations and \n",
    "splits up words to return a list of remaining words'''\n",
    "def normalize(text):\n",
    "    nopunc = [char for char in text if char not in string.punctuation]\n",
    "    nopunc = ''.join(nopunc)\n",
    "    return [word.lower() for word in nopunc.split() if word.lower() not in stopwords.words('english')]"
   ]
  },
  {
   "cell_type": "code",
   "execution_count": 4,
   "metadata": {},
   "outputs": [],
   "source": [
    "'''Function to just split up into words and do nothing more'''\n",
    "def splitup(text):\n",
    "    nopunc = [char for char in text if char not in string.punctuation]\n",
    "    nopunc = ''.join(nopunc)\n",
    "    return nopunc.split()"
   ]
  },
  {
   "cell_type": "code",
   "execution_count": 5,
   "metadata": {},
   "outputs": [],
   "source": [
    "'''Function to print out the summary of the precision, recall\n",
    "and F1-score of the classification'''\n",
    "def result_breakdown(y_test, classifier):\n",
    "    print(confusion_matrix(y_test, classifier))\n",
    "    print('\\n')\n",
    "    print(classification_report(y_test, classifier))"
   ]
  },
  {
   "cell_type": "code",
   "execution_count": 67,
   "metadata": {
    "collapsed": true
   },
   "outputs": [
    {
     "ename": "IndexError",
     "evalue": "list index out of range",
     "output_type": "error",
     "traceback": [
      "\u001b[0;31m---------------------------------------------------------------------------\u001b[0m",
      "\u001b[0;31mIndexError\u001b[0m                                Traceback (most recent call last)",
      "\u001b[0;32m<ipython-input-67-eb840c0cbc4f>\u001b[0m in \u001b[0;36m<module>\u001b[0;34m()\u001b[0m\n\u001b[0;32m----> 1\u001b[0;31m \u001b[0msentiment_analyzer\u001b[0m\u001b[0;34m(\u001b[0m\u001b[0msys\u001b[0m\u001b[0;34m.\u001b[0m\u001b[0margv\u001b[0m\u001b[0;34m[\u001b[0m\u001b[0;36m1\u001b[0m\u001b[0;34m]\u001b[0m\u001b[0;34m,\u001b[0m\u001b[0msys\u001b[0m\u001b[0;34m.\u001b[0m\u001b[0margv\u001b[0m\u001b[0;34m[\u001b[0m\u001b[0;36m2\u001b[0m\u001b[0;34m]\u001b[0m\u001b[0;34m,\u001b[0m\u001b[0msys\u001b[0m\u001b[0;34m.\u001b[0m\u001b[0margv\u001b[0m\u001b[0;34m[\u001b[0m\u001b[0;36m3\u001b[0m\u001b[0;34m]\u001b[0m\u001b[0;34m)\u001b[0m\u001b[0;34m\u001b[0m\u001b[0m\n\u001b[0m",
      "\u001b[0;31mIndexError\u001b[0m: list index out of range"
     ]
    }
   ],
   "source": [
    "sentiment_analyzer(sys.argv[1],sys.argv[2],sys.argv[3])"
   ]
  },
  {
   "cell_type": "code",
   "execution_count": 7,
   "metadata": {},
   "outputs": [
    {
     "name": "stdout",
     "output_type": "stream",
     "text": [
      "[[116  44]\n",
      " [ 20 111]]\n",
      "\n",
      "\n",
      "              precision    recall  f1-score   support\n",
      "\n",
      "           0       0.85      0.72      0.78       160\n",
      "           1       0.72      0.85      0.78       131\n",
      "\n",
      "   micro avg       0.78      0.78      0.78       291\n",
      "   macro avg       0.78      0.79      0.78       291\n",
      "weighted avg       0.79      0.78      0.78       291\n",
      "\n"
     ]
    }
   ],
   "source": [
    "sentiment_analyzer(\"nb\", \"n\", \"amazon_cells_labelled_training.txt\")"
   ]
  },
  {
   "cell_type": "code",
   "execution_count": null,
   "metadata": {},
   "outputs": [],
   "source": []
  }
 ],
 "metadata": {
  "kernelspec": {
   "display_name": "Python 3",
   "language": "python",
   "name": "python3"
  },
  "language_info": {
   "codemirror_mode": {
    "name": "ipython",
    "version": 3
   },
   "file_extension": ".py",
   "mimetype": "text/x-python",
   "name": "python",
   "nbconvert_exporter": "python",
   "pygments_lexer": "ipython3",
   "version": "3.7.0"
  }
 },
 "nbformat": 4,
 "nbformat_minor": 2
}
